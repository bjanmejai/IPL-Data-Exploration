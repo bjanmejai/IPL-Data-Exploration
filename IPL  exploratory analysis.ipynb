{
 "cells": [
  {
   "cell_type": "markdown",
   "metadata": {},
   "source": [
    "# This data set is the copyright property of IIM Bangalore.\n",
    "I am neither the owner nor hold any rights on this\n",
    "IPL 2013 dataset. I have used this dataset solely for learning and machine learning purpose. This is a case\n",
    "study problem provided in the book 'Machine Learning Using Python'2019 Wiley, publised by the Indian Institute \n",
    "of Management Bangalore. Reader/coder is allowed to use the codes in this notebook for learning purpose only."
   ]
  },
  {
   "cell_type": "code",
   "execution_count": 1,
   "metadata": {},
   "outputs": [],
   "source": [
    "import pandas as pd                #importing all the necessary libraries to work  with\n",
    "import matplotlib.pyplot as plt\n",
    "import seaborn as sb\n",
    "%matplotlib inline                "
   ]
  },
  {
   "cell_type": "code",
   "execution_count": 2,
   "metadata": {},
   "outputs": [],
   "source": [
    "df=pd.read_csv(\"D:f\\\\Codes-Data-Files\\\\Machine Learning (Codes and Data Files)\\\\Data\\IPL IMB381IPL2013.csv\")\n",
    "# write the file path here,where the file is saved on your PC. It's a CSV file, so use read_csv method"
   ]
  },
  {
   "cell_type": "code",
   "execution_count": 3,
   "metadata": {},
   "outputs": [
    {
     "data": {
      "text/html": [
       "<div>\n",
       "<style scoped>\n",
       "    .dataframe tbody tr th:only-of-type {\n",
       "        vertical-align: middle;\n",
       "    }\n",
       "\n",
       "    .dataframe tbody tr th {\n",
       "        vertical-align: top;\n",
       "    }\n",
       "\n",
       "    .dataframe thead th {\n",
       "        text-align: right;\n",
       "    }\n",
       "</style>\n",
       "<table border=\"1\" class=\"dataframe\">\n",
       "  <thead>\n",
       "    <tr style=\"text-align: right;\">\n",
       "      <th></th>\n",
       "      <th>Sl.NO.</th>\n",
       "      <th>PLAYER NAME</th>\n",
       "      <th>AGE</th>\n",
       "      <th>COUNTRY</th>\n",
       "      <th>TEAM</th>\n",
       "      <th>PLAYING ROLE</th>\n",
       "      <th>T-RUNS</th>\n",
       "      <th>T-WKTS</th>\n",
       "      <th>ODI-RUNS-S</th>\n",
       "      <th>ODI-SR-B</th>\n",
       "      <th>...</th>\n",
       "      <th>SR-B</th>\n",
       "      <th>SIXERS</th>\n",
       "      <th>RUNS-C</th>\n",
       "      <th>WKTS</th>\n",
       "      <th>AVE-BL</th>\n",
       "      <th>ECON</th>\n",
       "      <th>SR-BL</th>\n",
       "      <th>AUCTION YEAR</th>\n",
       "      <th>BASE PRICE</th>\n",
       "      <th>SOLD PRICE</th>\n",
       "    </tr>\n",
       "  </thead>\n",
       "  <tbody>\n",
       "    <tr>\n",
       "      <th>0</th>\n",
       "      <td>1</td>\n",
       "      <td>Abdulla, YA</td>\n",
       "      <td>2</td>\n",
       "      <td>SA</td>\n",
       "      <td>KXIP</td>\n",
       "      <td>Allrounder</td>\n",
       "      <td>0</td>\n",
       "      <td>0</td>\n",
       "      <td>0</td>\n",
       "      <td>0.00</td>\n",
       "      <td>...</td>\n",
       "      <td>0.00</td>\n",
       "      <td>0</td>\n",
       "      <td>307</td>\n",
       "      <td>15</td>\n",
       "      <td>20.47</td>\n",
       "      <td>8.90</td>\n",
       "      <td>13.93</td>\n",
       "      <td>2009</td>\n",
       "      <td>50000</td>\n",
       "      <td>50000</td>\n",
       "    </tr>\n",
       "    <tr>\n",
       "      <th>1</th>\n",
       "      <td>2</td>\n",
       "      <td>Abdur Razzak</td>\n",
       "      <td>2</td>\n",
       "      <td>BAN</td>\n",
       "      <td>RCB</td>\n",
       "      <td>Bowler</td>\n",
       "      <td>214</td>\n",
       "      <td>18</td>\n",
       "      <td>657</td>\n",
       "      <td>71.41</td>\n",
       "      <td>...</td>\n",
       "      <td>0.00</td>\n",
       "      <td>0</td>\n",
       "      <td>29</td>\n",
       "      <td>0</td>\n",
       "      <td>0.00</td>\n",
       "      <td>14.50</td>\n",
       "      <td>0.00</td>\n",
       "      <td>2008</td>\n",
       "      <td>50000</td>\n",
       "      <td>50000</td>\n",
       "    </tr>\n",
       "    <tr>\n",
       "      <th>2</th>\n",
       "      <td>3</td>\n",
       "      <td>Agarkar, AB</td>\n",
       "      <td>2</td>\n",
       "      <td>IND</td>\n",
       "      <td>KKR</td>\n",
       "      <td>Bowler</td>\n",
       "      <td>571</td>\n",
       "      <td>58</td>\n",
       "      <td>1269</td>\n",
       "      <td>80.62</td>\n",
       "      <td>...</td>\n",
       "      <td>121.01</td>\n",
       "      <td>5</td>\n",
       "      <td>1059</td>\n",
       "      <td>29</td>\n",
       "      <td>36.52</td>\n",
       "      <td>8.81</td>\n",
       "      <td>24.90</td>\n",
       "      <td>2008</td>\n",
       "      <td>200000</td>\n",
       "      <td>350000</td>\n",
       "    </tr>\n",
       "    <tr>\n",
       "      <th>3</th>\n",
       "      <td>4</td>\n",
       "      <td>Ashwin, R</td>\n",
       "      <td>1</td>\n",
       "      <td>IND</td>\n",
       "      <td>CSK</td>\n",
       "      <td>Bowler</td>\n",
       "      <td>284</td>\n",
       "      <td>31</td>\n",
       "      <td>241</td>\n",
       "      <td>84.56</td>\n",
       "      <td>...</td>\n",
       "      <td>76.32</td>\n",
       "      <td>0</td>\n",
       "      <td>1125</td>\n",
       "      <td>49</td>\n",
       "      <td>22.96</td>\n",
       "      <td>6.23</td>\n",
       "      <td>22.14</td>\n",
       "      <td>2011</td>\n",
       "      <td>100000</td>\n",
       "      <td>850000</td>\n",
       "    </tr>\n",
       "    <tr>\n",
       "      <th>4</th>\n",
       "      <td>5</td>\n",
       "      <td>Badrinath, S</td>\n",
       "      <td>2</td>\n",
       "      <td>IND</td>\n",
       "      <td>CSK</td>\n",
       "      <td>Batsman</td>\n",
       "      <td>63</td>\n",
       "      <td>0</td>\n",
       "      <td>79</td>\n",
       "      <td>45.93</td>\n",
       "      <td>...</td>\n",
       "      <td>120.71</td>\n",
       "      <td>28</td>\n",
       "      <td>0</td>\n",
       "      <td>0</td>\n",
       "      <td>0.00</td>\n",
       "      <td>0.00</td>\n",
       "      <td>0.00</td>\n",
       "      <td>2011</td>\n",
       "      <td>100000</td>\n",
       "      <td>800000</td>\n",
       "    </tr>\n",
       "  </tbody>\n",
       "</table>\n",
       "<p>5 rows × 26 columns</p>\n",
       "</div>"
      ],
      "text/plain": [
       "   Sl.NO.   PLAYER NAME  AGE COUNTRY  TEAM PLAYING ROLE  T-RUNS  T-WKTS  \\\n",
       "0       1   Abdulla, YA    2      SA  KXIP   Allrounder       0       0   \n",
       "1       2  Abdur Razzak    2     BAN   RCB       Bowler     214      18   \n",
       "2       3   Agarkar, AB    2     IND   KKR       Bowler     571      58   \n",
       "3       4     Ashwin, R    1     IND   CSK       Bowler     284      31   \n",
       "4       5  Badrinath, S    2     IND   CSK      Batsman      63       0   \n",
       "\n",
       "   ODI-RUNS-S  ODI-SR-B  ...    SR-B  SIXERS  RUNS-C  WKTS  AVE-BL   ECON  \\\n",
       "0           0      0.00  ...    0.00       0     307    15   20.47   8.90   \n",
       "1         657     71.41  ...    0.00       0      29     0    0.00  14.50   \n",
       "2        1269     80.62  ...  121.01       5    1059    29   36.52   8.81   \n",
       "3         241     84.56  ...   76.32       0    1125    49   22.96   6.23   \n",
       "4          79     45.93  ...  120.71      28       0     0    0.00   0.00   \n",
       "\n",
       "   SR-BL  AUCTION YEAR  BASE PRICE  SOLD PRICE  \n",
       "0  13.93          2009       50000       50000  \n",
       "1   0.00          2008       50000       50000  \n",
       "2  24.90          2008      200000      350000  \n",
       "3  22.14          2011      100000      850000  \n",
       "4   0.00          2011      100000      800000  \n",
       "\n",
       "[5 rows x 26 columns]"
      ]
     },
     "execution_count": 3,
     "metadata": {},
     "output_type": "execute_result"
    }
   ],
   "source": [
    "df.head(5)"
   ]
  },
  {
   "cell_type": "code",
   "execution_count": 4,
   "metadata": {},
   "outputs": [
    {
     "name": "stdout",
     "output_type": "stream",
     "text": [
      "Index(['Sl.NO.', 'PLAYER NAME', 'AGE', 'COUNTRY', 'TEAM', 'PLAYING ROLE',\n",
      "       'T-RUNS', 'T-WKTS', 'ODI-RUNS-S', 'ODI-SR-B', 'ODI-WKTS', 'ODI-SR-BL',\n",
      "       'CAPTAINCY EXP', 'RUNS-S', 'HS', 'AVE', 'SR-B', 'SIXERS', 'RUNS-C',\n",
      "       'WKTS', 'AVE-BL', 'ECON', 'SR-BL', 'AUCTION YEAR', 'BASE PRICE',\n",
      "       'SOLD PRICE'],\n",
      "      dtype='object')\n"
     ]
    },
    {
     "data": {
      "text/html": [
       "<div>\n",
       "<style scoped>\n",
       "    .dataframe tbody tr th:only-of-type {\n",
       "        vertical-align: middle;\n",
       "    }\n",
       "\n",
       "    .dataframe tbody tr th {\n",
       "        vertical-align: top;\n",
       "    }\n",
       "\n",
       "    .dataframe thead th {\n",
       "        text-align: right;\n",
       "    }\n",
       "</style>\n",
       "<table border=\"1\" class=\"dataframe\">\n",
       "  <thead>\n",
       "    <tr style=\"text-align: right;\">\n",
       "      <th></th>\n",
       "      <th>0</th>\n",
       "      <th>1</th>\n",
       "      <th>2</th>\n",
       "      <th>3</th>\n",
       "      <th>4</th>\n",
       "    </tr>\n",
       "  </thead>\n",
       "  <tbody>\n",
       "    <tr>\n",
       "      <th>Sl.NO.</th>\n",
       "      <td>1</td>\n",
       "      <td>2</td>\n",
       "      <td>3</td>\n",
       "      <td>4</td>\n",
       "      <td>5</td>\n",
       "    </tr>\n",
       "    <tr>\n",
       "      <th>PLAYER NAME</th>\n",
       "      <td>Abdulla, YA</td>\n",
       "      <td>Abdur Razzak</td>\n",
       "      <td>Agarkar, AB</td>\n",
       "      <td>Ashwin, R</td>\n",
       "      <td>Badrinath, S</td>\n",
       "    </tr>\n",
       "    <tr>\n",
       "      <th>AGE</th>\n",
       "      <td>2</td>\n",
       "      <td>2</td>\n",
       "      <td>2</td>\n",
       "      <td>1</td>\n",
       "      <td>2</td>\n",
       "    </tr>\n",
       "    <tr>\n",
       "      <th>COUNTRY</th>\n",
       "      <td>SA</td>\n",
       "      <td>BAN</td>\n",
       "      <td>IND</td>\n",
       "      <td>IND</td>\n",
       "      <td>IND</td>\n",
       "    </tr>\n",
       "    <tr>\n",
       "      <th>TEAM</th>\n",
       "      <td>KXIP</td>\n",
       "      <td>RCB</td>\n",
       "      <td>KKR</td>\n",
       "      <td>CSK</td>\n",
       "      <td>CSK</td>\n",
       "    </tr>\n",
       "    <tr>\n",
       "      <th>PLAYING ROLE</th>\n",
       "      <td>Allrounder</td>\n",
       "      <td>Bowler</td>\n",
       "      <td>Bowler</td>\n",
       "      <td>Bowler</td>\n",
       "      <td>Batsman</td>\n",
       "    </tr>\n",
       "    <tr>\n",
       "      <th>T-RUNS</th>\n",
       "      <td>0</td>\n",
       "      <td>214</td>\n",
       "      <td>571</td>\n",
       "      <td>284</td>\n",
       "      <td>63</td>\n",
       "    </tr>\n",
       "    <tr>\n",
       "      <th>T-WKTS</th>\n",
       "      <td>0</td>\n",
       "      <td>18</td>\n",
       "      <td>58</td>\n",
       "      <td>31</td>\n",
       "      <td>0</td>\n",
       "    </tr>\n",
       "    <tr>\n",
       "      <th>ODI-RUNS-S</th>\n",
       "      <td>0</td>\n",
       "      <td>657</td>\n",
       "      <td>1269</td>\n",
       "      <td>241</td>\n",
       "      <td>79</td>\n",
       "    </tr>\n",
       "    <tr>\n",
       "      <th>ODI-SR-B</th>\n",
       "      <td>0</td>\n",
       "      <td>71.41</td>\n",
       "      <td>80.62</td>\n",
       "      <td>84.56</td>\n",
       "      <td>45.93</td>\n",
       "    </tr>\n",
       "    <tr>\n",
       "      <th>ODI-WKTS</th>\n",
       "      <td>0</td>\n",
       "      <td>185</td>\n",
       "      <td>288</td>\n",
       "      <td>51</td>\n",
       "      <td>0</td>\n",
       "    </tr>\n",
       "    <tr>\n",
       "      <th>ODI-SR-BL</th>\n",
       "      <td>0</td>\n",
       "      <td>37.6</td>\n",
       "      <td>32.9</td>\n",
       "      <td>36.8</td>\n",
       "      <td>0</td>\n",
       "    </tr>\n",
       "    <tr>\n",
       "      <th>CAPTAINCY EXP</th>\n",
       "      <td>0</td>\n",
       "      <td>0</td>\n",
       "      <td>0</td>\n",
       "      <td>0</td>\n",
       "      <td>0</td>\n",
       "    </tr>\n",
       "    <tr>\n",
       "      <th>RUNS-S</th>\n",
       "      <td>0</td>\n",
       "      <td>0</td>\n",
       "      <td>167</td>\n",
       "      <td>58</td>\n",
       "      <td>1317</td>\n",
       "    </tr>\n",
       "    <tr>\n",
       "      <th>HS</th>\n",
       "      <td>0</td>\n",
       "      <td>0</td>\n",
       "      <td>39</td>\n",
       "      <td>11</td>\n",
       "      <td>71</td>\n",
       "    </tr>\n",
       "    <tr>\n",
       "      <th>AVE</th>\n",
       "      <td>0</td>\n",
       "      <td>0</td>\n",
       "      <td>18.56</td>\n",
       "      <td>5.8</td>\n",
       "      <td>32.93</td>\n",
       "    </tr>\n",
       "    <tr>\n",
       "      <th>SR-B</th>\n",
       "      <td>0</td>\n",
       "      <td>0</td>\n",
       "      <td>121.01</td>\n",
       "      <td>76.32</td>\n",
       "      <td>120.71</td>\n",
       "    </tr>\n",
       "    <tr>\n",
       "      <th>SIXERS</th>\n",
       "      <td>0</td>\n",
       "      <td>0</td>\n",
       "      <td>5</td>\n",
       "      <td>0</td>\n",
       "      <td>28</td>\n",
       "    </tr>\n",
       "    <tr>\n",
       "      <th>RUNS-C</th>\n",
       "      <td>307</td>\n",
       "      <td>29</td>\n",
       "      <td>1059</td>\n",
       "      <td>1125</td>\n",
       "      <td>0</td>\n",
       "    </tr>\n",
       "    <tr>\n",
       "      <th>WKTS</th>\n",
       "      <td>15</td>\n",
       "      <td>0</td>\n",
       "      <td>29</td>\n",
       "      <td>49</td>\n",
       "      <td>0</td>\n",
       "    </tr>\n",
       "    <tr>\n",
       "      <th>AVE-BL</th>\n",
       "      <td>20.47</td>\n",
       "      <td>0</td>\n",
       "      <td>36.52</td>\n",
       "      <td>22.96</td>\n",
       "      <td>0</td>\n",
       "    </tr>\n",
       "    <tr>\n",
       "      <th>ECON</th>\n",
       "      <td>8.9</td>\n",
       "      <td>14.5</td>\n",
       "      <td>8.81</td>\n",
       "      <td>6.23</td>\n",
       "      <td>0</td>\n",
       "    </tr>\n",
       "    <tr>\n",
       "      <th>SR-BL</th>\n",
       "      <td>13.93</td>\n",
       "      <td>0</td>\n",
       "      <td>24.9</td>\n",
       "      <td>22.14</td>\n",
       "      <td>0</td>\n",
       "    </tr>\n",
       "    <tr>\n",
       "      <th>AUCTION YEAR</th>\n",
       "      <td>2009</td>\n",
       "      <td>2008</td>\n",
       "      <td>2008</td>\n",
       "      <td>2011</td>\n",
       "      <td>2011</td>\n",
       "    </tr>\n",
       "    <tr>\n",
       "      <th>BASE PRICE</th>\n",
       "      <td>50000</td>\n",
       "      <td>50000</td>\n",
       "      <td>200000</td>\n",
       "      <td>100000</td>\n",
       "      <td>100000</td>\n",
       "    </tr>\n",
       "    <tr>\n",
       "      <th>SOLD PRICE</th>\n",
       "      <td>50000</td>\n",
       "      <td>50000</td>\n",
       "      <td>350000</td>\n",
       "      <td>850000</td>\n",
       "      <td>800000</td>\n",
       "    </tr>\n",
       "  </tbody>\n",
       "</table>\n",
       "</div>"
      ],
      "text/plain": [
       "                         0             1            2          3             4\n",
       "Sl.NO.                   1             2            3          4             5\n",
       "PLAYER NAME    Abdulla, YA  Abdur Razzak  Agarkar, AB  Ashwin, R  Badrinath, S\n",
       "AGE                      2             2            2          1             2\n",
       "COUNTRY                 SA           BAN          IND        IND           IND\n",
       "TEAM                  KXIP           RCB          KKR        CSK           CSK\n",
       "PLAYING ROLE    Allrounder        Bowler       Bowler     Bowler       Batsman\n",
       "T-RUNS                   0           214          571        284            63\n",
       "T-WKTS                   0            18           58         31             0\n",
       "ODI-RUNS-S               0           657         1269        241            79\n",
       "ODI-SR-B                 0         71.41        80.62      84.56         45.93\n",
       "ODI-WKTS                 0           185          288         51             0\n",
       "ODI-SR-BL                0          37.6         32.9       36.8             0\n",
       "CAPTAINCY EXP            0             0            0          0             0\n",
       "RUNS-S                   0             0          167         58          1317\n",
       "HS                       0             0           39         11            71\n",
       "AVE                      0             0        18.56        5.8         32.93\n",
       "SR-B                     0             0       121.01      76.32        120.71\n",
       "SIXERS                   0             0            5          0            28\n",
       "RUNS-C                 307            29         1059       1125             0\n",
       "WKTS                    15             0           29         49             0\n",
       "AVE-BL               20.47             0        36.52      22.96             0\n",
       "ECON                   8.9          14.5         8.81       6.23             0\n",
       "SR-BL                13.93             0         24.9      22.14             0\n",
       "AUCTION YEAR          2009          2008         2008       2011          2011\n",
       "BASE PRICE           50000         50000       200000     100000        100000\n",
       "SOLD PRICE           50000         50000       350000     850000        800000"
      ]
     },
     "execution_count": 4,
     "metadata": {},
     "output_type": "execute_result"
    }
   ],
   "source": [
    "'''As can be seen the dataframe has 26 columns which doesn't fit the screen. Let's transpose them and see all the column names'''\n",
    "'''We will do it the same way ,we transpose in excel '''\n",
    "\n",
    "print(df.columns)\n",
    "df.head(5).transpose() #Showing rows for 5 players only"
   ]
  },
  {
   "cell_type": "code",
   "execution_count": 5,
   "metadata": {},
   "outputs": [
    {
     "data": {
      "text/html": [
       "<div>\n",
       "<style scoped>\n",
       "    .dataframe tbody tr th:only-of-type {\n",
       "        vertical-align: middle;\n",
       "    }\n",
       "\n",
       "    .dataframe tbody tr th {\n",
       "        vertical-align: top;\n",
       "    }\n",
       "\n",
       "    .dataframe thead th {\n",
       "        text-align: right;\n",
       "    }\n",
       "</style>\n",
       "<table border=\"1\" class=\"dataframe\">\n",
       "  <thead>\n",
       "    <tr style=\"text-align: right;\">\n",
       "      <th></th>\n",
       "      <th>Sl.NO.</th>\n",
       "      <th>AGE</th>\n",
       "      <th>T-RUNS</th>\n",
       "      <th>T-WKTS</th>\n",
       "      <th>ODI-RUNS-S</th>\n",
       "      <th>ODI-SR-B</th>\n",
       "      <th>ODI-WKTS</th>\n",
       "      <th>ODI-SR-BL</th>\n",
       "      <th>CAPTAINCY EXP</th>\n",
       "      <th>RUNS-S</th>\n",
       "      <th>...</th>\n",
       "      <th>SR-B</th>\n",
       "      <th>SIXERS</th>\n",
       "      <th>RUNS-C</th>\n",
       "      <th>WKTS</th>\n",
       "      <th>AVE-BL</th>\n",
       "      <th>ECON</th>\n",
       "      <th>SR-BL</th>\n",
       "      <th>AUCTION YEAR</th>\n",
       "      <th>BASE PRICE</th>\n",
       "      <th>SOLD PRICE</th>\n",
       "    </tr>\n",
       "  </thead>\n",
       "  <tbody>\n",
       "    <tr>\n",
       "      <th>count</th>\n",
       "      <td>130.000000</td>\n",
       "      <td>130.000000</td>\n",
       "      <td>130.000000</td>\n",
       "      <td>130.000000</td>\n",
       "      <td>130.000000</td>\n",
       "      <td>130.000000</td>\n",
       "      <td>130.000000</td>\n",
       "      <td>130.000000</td>\n",
       "      <td>130.000000</td>\n",
       "      <td>130.000000</td>\n",
       "      <td>...</td>\n",
       "      <td>130.000000</td>\n",
       "      <td>130.000000</td>\n",
       "      <td>130.000000</td>\n",
       "      <td>130.000000</td>\n",
       "      <td>130.000000</td>\n",
       "      <td>130.000000</td>\n",
       "      <td>130.000000</td>\n",
       "      <td>130.000000</td>\n",
       "      <td>1.300000e+02</td>\n",
       "      <td>1.300000e+02</td>\n",
       "    </tr>\n",
       "    <tr>\n",
       "      <th>mean</th>\n",
       "      <td>65.500000</td>\n",
       "      <td>2.092308</td>\n",
       "      <td>2166.715385</td>\n",
       "      <td>66.530769</td>\n",
       "      <td>2508.738462</td>\n",
       "      <td>71.164385</td>\n",
       "      <td>76.076923</td>\n",
       "      <td>34.033846</td>\n",
       "      <td>0.315385</td>\n",
       "      <td>514.246154</td>\n",
       "      <td>...</td>\n",
       "      <td>111.053462</td>\n",
       "      <td>17.692308</td>\n",
       "      <td>475.523077</td>\n",
       "      <td>17.169231</td>\n",
       "      <td>23.110231</td>\n",
       "      <td>6.204462</td>\n",
       "      <td>17.382615</td>\n",
       "      <td>2009.092308</td>\n",
       "      <td>1.922308e+05</td>\n",
       "      <td>5.212231e+05</td>\n",
       "    </tr>\n",
       "    <tr>\n",
       "      <th>std</th>\n",
       "      <td>37.671829</td>\n",
       "      <td>0.576627</td>\n",
       "      <td>3305.646757</td>\n",
       "      <td>142.676855</td>\n",
       "      <td>3582.205625</td>\n",
       "      <td>25.898440</td>\n",
       "      <td>111.205070</td>\n",
       "      <td>26.751749</td>\n",
       "      <td>0.466466</td>\n",
       "      <td>615.226335</td>\n",
       "      <td>...</td>\n",
       "      <td>35.928907</td>\n",
       "      <td>23.828146</td>\n",
       "      <td>558.314049</td>\n",
       "      <td>21.816763</td>\n",
       "      <td>20.802057</td>\n",
       "      <td>4.941531</td>\n",
       "      <td>15.273422</td>\n",
       "      <td>1.377821</td>\n",
       "      <td>1.530973e+05</td>\n",
       "      <td>4.068074e+05</td>\n",
       "    </tr>\n",
       "    <tr>\n",
       "      <th>min</th>\n",
       "      <td>1.000000</td>\n",
       "      <td>1.000000</td>\n",
       "      <td>0.000000</td>\n",
       "      <td>0.000000</td>\n",
       "      <td>0.000000</td>\n",
       "      <td>0.000000</td>\n",
       "      <td>0.000000</td>\n",
       "      <td>0.000000</td>\n",
       "      <td>0.000000</td>\n",
       "      <td>0.000000</td>\n",
       "      <td>...</td>\n",
       "      <td>0.000000</td>\n",
       "      <td>0.000000</td>\n",
       "      <td>0.000000</td>\n",
       "      <td>0.000000</td>\n",
       "      <td>0.000000</td>\n",
       "      <td>0.000000</td>\n",
       "      <td>0.000000</td>\n",
       "      <td>2008.000000</td>\n",
       "      <td>2.000000e+04</td>\n",
       "      <td>2.000000e+04</td>\n",
       "    </tr>\n",
       "    <tr>\n",
       "      <th>25%</th>\n",
       "      <td>33.250000</td>\n",
       "      <td>2.000000</td>\n",
       "      <td>25.500000</td>\n",
       "      <td>0.000000</td>\n",
       "      <td>73.250000</td>\n",
       "      <td>65.650000</td>\n",
       "      <td>0.000000</td>\n",
       "      <td>0.000000</td>\n",
       "      <td>0.000000</td>\n",
       "      <td>39.000000</td>\n",
       "      <td>...</td>\n",
       "      <td>98.237500</td>\n",
       "      <td>1.000000</td>\n",
       "      <td>0.000000</td>\n",
       "      <td>0.000000</td>\n",
       "      <td>0.000000</td>\n",
       "      <td>0.000000</td>\n",
       "      <td>0.000000</td>\n",
       "      <td>2008.000000</td>\n",
       "      <td>1.000000e+05</td>\n",
       "      <td>2.250000e+05</td>\n",
       "    </tr>\n",
       "    <tr>\n",
       "      <th>50%</th>\n",
       "      <td>65.500000</td>\n",
       "      <td>2.000000</td>\n",
       "      <td>542.500000</td>\n",
       "      <td>7.000000</td>\n",
       "      <td>835.000000</td>\n",
       "      <td>78.225000</td>\n",
       "      <td>18.500000</td>\n",
       "      <td>36.600000</td>\n",
       "      <td>0.000000</td>\n",
       "      <td>172.000000</td>\n",
       "      <td>...</td>\n",
       "      <td>118.510000</td>\n",
       "      <td>6.000000</td>\n",
       "      <td>297.000000</td>\n",
       "      <td>8.500000</td>\n",
       "      <td>24.785000</td>\n",
       "      <td>7.380000</td>\n",
       "      <td>19.935000</td>\n",
       "      <td>2008.000000</td>\n",
       "      <td>2.000000e+05</td>\n",
       "      <td>4.375000e+05</td>\n",
       "    </tr>\n",
       "    <tr>\n",
       "      <th>75%</th>\n",
       "      <td>97.750000</td>\n",
       "      <td>2.000000</td>\n",
       "      <td>3002.250000</td>\n",
       "      <td>47.500000</td>\n",
       "      <td>3523.500000</td>\n",
       "      <td>86.790000</td>\n",
       "      <td>106.000000</td>\n",
       "      <td>45.325000</td>\n",
       "      <td>1.000000</td>\n",
       "      <td>925.250000</td>\n",
       "      <td>...</td>\n",
       "      <td>129.102500</td>\n",
       "      <td>29.750000</td>\n",
       "      <td>689.250000</td>\n",
       "      <td>23.750000</td>\n",
       "      <td>35.580000</td>\n",
       "      <td>8.247500</td>\n",
       "      <td>26.212500</td>\n",
       "      <td>2011.000000</td>\n",
       "      <td>2.250000e+05</td>\n",
       "      <td>7.000000e+05</td>\n",
       "    </tr>\n",
       "    <tr>\n",
       "      <th>max</th>\n",
       "      <td>130.000000</td>\n",
       "      <td>3.000000</td>\n",
       "      <td>15470.000000</td>\n",
       "      <td>800.000000</td>\n",
       "      <td>18426.000000</td>\n",
       "      <td>116.660000</td>\n",
       "      <td>534.000000</td>\n",
       "      <td>150.000000</td>\n",
       "      <td>1.000000</td>\n",
       "      <td>2254.000000</td>\n",
       "      <td>...</td>\n",
       "      <td>235.490000</td>\n",
       "      <td>129.000000</td>\n",
       "      <td>1975.000000</td>\n",
       "      <td>83.000000</td>\n",
       "      <td>126.300000</td>\n",
       "      <td>38.110000</td>\n",
       "      <td>100.200000</td>\n",
       "      <td>2011.000000</td>\n",
       "      <td>1.350000e+06</td>\n",
       "      <td>1.800000e+06</td>\n",
       "    </tr>\n",
       "  </tbody>\n",
       "</table>\n",
       "<p>8 rows × 22 columns</p>\n",
       "</div>"
      ],
      "text/plain": [
       "           Sl.NO.         AGE        T-RUNS      T-WKTS    ODI-RUNS-S  \\\n",
       "count  130.000000  130.000000    130.000000  130.000000    130.000000   \n",
       "mean    65.500000    2.092308   2166.715385   66.530769   2508.738462   \n",
       "std     37.671829    0.576627   3305.646757  142.676855   3582.205625   \n",
       "min      1.000000    1.000000      0.000000    0.000000      0.000000   \n",
       "25%     33.250000    2.000000     25.500000    0.000000     73.250000   \n",
       "50%     65.500000    2.000000    542.500000    7.000000    835.000000   \n",
       "75%     97.750000    2.000000   3002.250000   47.500000   3523.500000   \n",
       "max    130.000000    3.000000  15470.000000  800.000000  18426.000000   \n",
       "\n",
       "         ODI-SR-B    ODI-WKTS   ODI-SR-BL  CAPTAINCY EXP       RUNS-S  ...  \\\n",
       "count  130.000000  130.000000  130.000000     130.000000   130.000000  ...   \n",
       "mean    71.164385   76.076923   34.033846       0.315385   514.246154  ...   \n",
       "std     25.898440  111.205070   26.751749       0.466466   615.226335  ...   \n",
       "min      0.000000    0.000000    0.000000       0.000000     0.000000  ...   \n",
       "25%     65.650000    0.000000    0.000000       0.000000    39.000000  ...   \n",
       "50%     78.225000   18.500000   36.600000       0.000000   172.000000  ...   \n",
       "75%     86.790000  106.000000   45.325000       1.000000   925.250000  ...   \n",
       "max    116.660000  534.000000  150.000000       1.000000  2254.000000  ...   \n",
       "\n",
       "             SR-B      SIXERS       RUNS-C        WKTS      AVE-BL  \\\n",
       "count  130.000000  130.000000   130.000000  130.000000  130.000000   \n",
       "mean   111.053462   17.692308   475.523077   17.169231   23.110231   \n",
       "std     35.928907   23.828146   558.314049   21.816763   20.802057   \n",
       "min      0.000000    0.000000     0.000000    0.000000    0.000000   \n",
       "25%     98.237500    1.000000     0.000000    0.000000    0.000000   \n",
       "50%    118.510000    6.000000   297.000000    8.500000   24.785000   \n",
       "75%    129.102500   29.750000   689.250000   23.750000   35.580000   \n",
       "max    235.490000  129.000000  1975.000000   83.000000  126.300000   \n",
       "\n",
       "             ECON       SR-BL  AUCTION YEAR    BASE PRICE    SOLD PRICE  \n",
       "count  130.000000  130.000000    130.000000  1.300000e+02  1.300000e+02  \n",
       "mean     6.204462   17.382615   2009.092308  1.922308e+05  5.212231e+05  \n",
       "std      4.941531   15.273422      1.377821  1.530973e+05  4.068074e+05  \n",
       "min      0.000000    0.000000   2008.000000  2.000000e+04  2.000000e+04  \n",
       "25%      0.000000    0.000000   2008.000000  1.000000e+05  2.250000e+05  \n",
       "50%      7.380000   19.935000   2008.000000  2.000000e+05  4.375000e+05  \n",
       "75%      8.247500   26.212500   2011.000000  2.250000e+05  7.000000e+05  \n",
       "max     38.110000  100.200000   2011.000000  1.350000e+06  1.800000e+06  \n",
       "\n",
       "[8 rows x 22 columns]"
      ]
     },
     "execution_count": 5,
     "metadata": {},
     "output_type": "execute_result"
    }
   ],
   "source": [
    "df.describe()  # statistical figures for the columns"
   ]
  },
  {
   "cell_type": "code",
   "execution_count": 6,
   "metadata": {},
   "outputs": [
    {
     "name": "stdout",
     "output_type": "stream",
     "text": [
      "<class 'pandas.core.frame.DataFrame'>\n",
      "RangeIndex: 130 entries, 0 to 129\n",
      "Data columns (total 26 columns):\n",
      " #   Column         Non-Null Count  Dtype  \n",
      "---  ------         --------------  -----  \n",
      " 0   Sl.NO.         130 non-null    int64  \n",
      " 1   PLAYER NAME    130 non-null    object \n",
      " 2   AGE            130 non-null    int64  \n",
      " 3   COUNTRY        130 non-null    object \n",
      " 4   TEAM           130 non-null    object \n",
      " 5   PLAYING ROLE   130 non-null    object \n",
      " 6   T-RUNS         130 non-null    int64  \n",
      " 7   T-WKTS         130 non-null    int64  \n",
      " 8   ODI-RUNS-S     130 non-null    int64  \n",
      " 9   ODI-SR-B       130 non-null    float64\n",
      " 10  ODI-WKTS       130 non-null    int64  \n",
      " 11  ODI-SR-BL      130 non-null    float64\n",
      " 12  CAPTAINCY EXP  130 non-null    int64  \n",
      " 13  RUNS-S         130 non-null    int64  \n",
      " 14  HS             130 non-null    int64  \n",
      " 15  AVE            130 non-null    float64\n",
      " 16  SR-B           130 non-null    float64\n",
      " 17  SIXERS         130 non-null    int64  \n",
      " 18  RUNS-C         130 non-null    int64  \n",
      " 19  WKTS           130 non-null    int64  \n",
      " 20  AVE-BL         130 non-null    float64\n",
      " 21  ECON           130 non-null    float64\n",
      " 22  SR-BL          130 non-null    float64\n",
      " 23  AUCTION YEAR   130 non-null    int64  \n",
      " 24  BASE PRICE     130 non-null    int64  \n",
      " 25  SOLD PRICE     130 non-null    int64  \n",
      "dtypes: float64(7), int64(15), object(4)\n",
      "memory usage: 26.5+ KB\n"
     ]
    }
   ],
   "source": [
    "df.info()  #a detailed summary of the IPL dataset"
   ]
  },
  {
   "cell_type": "code",
   "execution_count": 7,
   "metadata": {},
   "outputs": [
    {
     "name": "stdout",
     "output_type": "stream",
     "text": [
      "IND    53\n",
      "AUS    22\n",
      "SA     16\n",
      "SL     12\n",
      "PAK     9\n",
      "NZ      7\n",
      "WI      6\n",
      "ENG     3\n",
      "BAN     1\n",
      "ZIM     1\n",
      "Name: COUNTRY, dtype: int64\n"
     ]
    },
    {
     "data": {
      "text/plain": [
       "IND    40.769231\n",
       "AUS    16.923077\n",
       "SA     12.307692\n",
       "SL      9.230769\n",
       "PAK     6.923077\n",
       "NZ      5.384615\n",
       "WI      4.615385\n",
       "ENG     2.307692\n",
       "BAN     0.769231\n",
       "ZIM     0.769231\n",
       "Name: COUNTRY, dtype: float64"
      ]
     },
     "execution_count": 7,
     "metadata": {},
     "output_type": "execute_result"
    }
   ],
   "source": [
    "print(df.COUNTRY.value_counts())       #We can see there are 53 players from india & only 1 from zimbabwe\n",
    "\n",
    "df['COUNTRY'].value_counts(normalize='True')*100    #percentage of occurence of each unique value"
   ]
  },
  {
   "cell_type": "markdown",
   "metadata": {},
   "source": [
    "# This IPL dataset has age column ,which has been coded into groups by the BCCI. Code and values are as below\n",
    "   1- less than 25 years of age\n",
    "   2- Players age is in between 25-35\n",
    "   3- Age is more than 35 years"
   ]
  },
  {
   "cell_type": "code",
   "execution_count": 8,
   "metadata": {},
   "outputs": [
    {
     "data": {
      "text/plain": [
       "0    2\n",
       "1    2\n",
       "2    2\n",
       "3    1\n",
       "4    2\n",
       "Name: AGE, dtype: int64"
      ]
     },
     "execution_count": 8,
     "metadata": {},
     "output_type": "execute_result"
    }
   ],
   "source": [
    "df.head(5)['AGE']  # we can see that AGE is coded variable in this dataset"
   ]
  },
  {
   "cell_type": "markdown",
   "metadata": {},
   "source": [
    "The columns and their explanations are as below in the image."
   ]
  },
  {
   "cell_type": "code",
   "execution_count": null,
   "metadata": {},
   "outputs": [],
   "source": []
  },
  {
   "cell_type": "code",
   "execution_count": 9,
   "metadata": {},
   "outputs": [
    {
     "data": {
      "text/html": [
       "<div>\n",
       "<style scoped>\n",
       "    .dataframe tbody tr th:only-of-type {\n",
       "        vertical-align: middle;\n",
       "    }\n",
       "\n",
       "    .dataframe tbody tr th {\n",
       "        vertical-align: top;\n",
       "    }\n",
       "\n",
       "    .dataframe thead th {\n",
       "        text-align: right;\n",
       "    }\n",
       "</style>\n",
       "<table border=\"1\" class=\"dataframe\">\n",
       "  <thead>\n",
       "    <tr style=\"text-align: right;\">\n",
       "      <th>PLAYING ROLE</th>\n",
       "      <th>Allrounder</th>\n",
       "      <th>Batsman</th>\n",
       "      <th>Bowler</th>\n",
       "      <th>W. Keeper</th>\n",
       "    </tr>\n",
       "    <tr>\n",
       "      <th>AGE</th>\n",
       "      <th></th>\n",
       "      <th></th>\n",
       "      <th></th>\n",
       "      <th></th>\n",
       "    </tr>\n",
       "  </thead>\n",
       "  <tbody>\n",
       "    <tr>\n",
       "      <th>1</th>\n",
       "      <td>4</td>\n",
       "      <td>5</td>\n",
       "      <td>7</td>\n",
       "      <td>0</td>\n",
       "    </tr>\n",
       "    <tr>\n",
       "      <th>2</th>\n",
       "      <td>25</td>\n",
       "      <td>21</td>\n",
       "      <td>29</td>\n",
       "      <td>11</td>\n",
       "    </tr>\n",
       "    <tr>\n",
       "      <th>3</th>\n",
       "      <td>6</td>\n",
       "      <td>13</td>\n",
       "      <td>8</td>\n",
       "      <td>1</td>\n",
       "    </tr>\n",
       "  </tbody>\n",
       "</table>\n",
       "</div>"
      ],
      "text/plain": [
       "PLAYING ROLE  Allrounder  Batsman  Bowler  W. Keeper\n",
       "AGE                                                 \n",
       "1                      4        5       7          0\n",
       "2                     25       21      29         11\n",
       "3                      6       13       8          1"
      ]
     },
     "execution_count": 9,
     "metadata": {},
     "output_type": "execute_result"
    }
   ],
   "source": [
    " pd.crosstab(df[\"AGE\"],df['PLAYING ROLE'])\n",
    "    \n",
    " ### cross tab helps in describing frequencies of two columns\n",
    "\n",
    " ###Most of the players are from the age group of 2"
   ]
  },
  {
   "cell_type": "code",
   "execution_count": 10,
   "metadata": {},
   "outputs": [
    {
     "name": "stderr",
     "output_type": "stream",
     "text": [
      "C:\\ProgramData\\Anaconda3\\lib\\site-packages\\seaborn\\_decorators.py:43: FutureWarning: Pass the following variable as a keyword arg: x. From version 0.12, the only valid positional argument will be `data`, and passing other arguments without an explicit keyword will result in an error or misinterpretation.\n",
      "  FutureWarning\n"
     ]
    },
    {
     "data": {
      "text/plain": [
       "Text(0.5, 1.0, 'Number of players in each age group Vs role')"
      ]
     },
     "execution_count": 10,
     "metadata": {},
     "output_type": "execute_result"
    },
    {
     "data": {
      "image/png": "[encoded data removed]",
      "text/plain": [
       "<Figure size 576x432 with 1 Axes>"
      ]
     },
     "metadata": {
      "needs_background": "light"
     },
     "output_type": "display_data"
    }
   ],
   "source": [
    "plt.figure(figsize=[8,6])  ## creating a plot to show both the variable together using seaborn\n",
    "\n",
    "sb.countplot(df['AGE'], hue=df['PLAYING ROLE'],  saturation=.85, palette='plasma')\n",
    "plt.xlabel('Age group')\n",
    "plt.ylabel('Number of players')\n",
    "plt.title('Number of players in each age group Vs role')\n"
   ]
  },
  {
   "cell_type": "markdown",
   "metadata": {},
   "source": [
    "### we can say looking at the above chart ,this IPL has more bowlers than batsman and there are no wicket keepers who are 25 years of age or less. We can infer more just by looking at the chart."
   ]
  },
  {
   "cell_type": "markdown",
   "metadata": {},
   "source": [
    "The objective behind this dataset analysis is, to know which players were sold for higher price and,\n",
    "which players were sold for depreciated price. After the analysis is done, we would get to know several more hidden\n",
    "patterns about the player's and attributes associated with them. Like ,does any age group has any \n",
    "influence on the sold price or earned premium ?. Lets create a new column to help us, assist in knowing the premium earned by players , and naming the column as Premium."
   ]
  },
  {
   "cell_type": "code",
   "execution_count": 11,
   "metadata": {},
   "outputs": [],
   "source": [
    "df['Premium']=df['SOLD PRICE']-df['BASE PRICE']  #premium is difference bw sold price and base price\n"
   ]
  },
  {
   "cell_type": "code",
   "execution_count": 12,
   "metadata": {},
   "outputs": [
    {
     "data": {
      "text/html": [
       "<div>\n",
       "<style scoped>\n",
       "    .dataframe tbody tr th:only-of-type {\n",
       "        vertical-align: middle;\n",
       "    }\n",
       "\n",
       "    .dataframe tbody tr th {\n",
       "        vertical-align: top;\n",
       "    }\n",
       "\n",
       "    .dataframe thead th {\n",
       "        text-align: right;\n",
       "    }\n",
       "</style>\n",
       "<table border=\"1\" class=\"dataframe\">\n",
       "  <thead>\n",
       "    <tr style=\"text-align: right;\">\n",
       "      <th></th>\n",
       "      <th>PLAYER NAME</th>\n",
       "      <th>SOLD PRICE</th>\n",
       "      <th>BASE PRICE</th>\n",
       "      <th>Premium</th>\n",
       "      <th>COUNTRY</th>\n",
       "    </tr>\n",
       "  </thead>\n",
       "  <tbody>\n",
       "    <tr>\n",
       "      <th>50</th>\n",
       "      <td>Kohli, V</td>\n",
       "      <td>1800000</td>\n",
       "      <td>150000</td>\n",
       "      <td>1650000</td>\n",
       "      <td>IND</td>\n",
       "    </tr>\n",
       "    <tr>\n",
       "      <th>113</th>\n",
       "      <td>Tiwary, SS</td>\n",
       "      <td>1600000</td>\n",
       "      <td>100000</td>\n",
       "      <td>1500000</td>\n",
       "      <td>IND</td>\n",
       "    </tr>\n",
       "    <tr>\n",
       "      <th>127</th>\n",
       "      <td>Yuvraj Singh</td>\n",
       "      <td>1800000</td>\n",
       "      <td>400000</td>\n",
       "      <td>1400000</td>\n",
       "      <td>IND</td>\n",
       "    </tr>\n",
       "    <tr>\n",
       "      <th>111</th>\n",
       "      <td>Tendulkar, SR</td>\n",
       "      <td>1800000</td>\n",
       "      <td>400000</td>\n",
       "      <td>1400000</td>\n",
       "      <td>IND</td>\n",
       "    </tr>\n",
       "    <tr>\n",
       "      <th>93</th>\n",
       "      <td>Sehwag, V</td>\n",
       "      <td>1800000</td>\n",
       "      <td>400000</td>\n",
       "      <td>1400000</td>\n",
       "      <td>IND</td>\n",
       "    </tr>\n",
       "    <tr>\n",
       "      <th>108</th>\n",
       "      <td>Symonds, A</td>\n",
       "      <td>1350000</td>\n",
       "      <td>250000</td>\n",
       "      <td>1100000</td>\n",
       "      <td>AUS</td>\n",
       "    </tr>\n",
       "    <tr>\n",
       "      <th>15</th>\n",
       "      <td>Dhoni, MS</td>\n",
       "      <td>1500000</td>\n",
       "      <td>400000</td>\n",
       "      <td>1100000</td>\n",
       "      <td>IND</td>\n",
       "    </tr>\n",
       "    <tr>\n",
       "      <th>39</th>\n",
       "      <td>Jadeja, RA</td>\n",
       "      <td>950000</td>\n",
       "      <td>100000</td>\n",
       "      <td>850000</td>\n",
       "      <td>IND</td>\n",
       "    </tr>\n",
       "    <tr>\n",
       "      <th>95</th>\n",
       "      <td>Sharma, I</td>\n",
       "      <td>950000</td>\n",
       "      <td>150000</td>\n",
       "      <td>800000</td>\n",
       "      <td>IND</td>\n",
       "    </tr>\n",
       "    <tr>\n",
       "      <th>3</th>\n",
       "      <td>Ashwin, R</td>\n",
       "      <td>850000</td>\n",
       "      <td>100000</td>\n",
       "      <td>750000</td>\n",
       "      <td>IND</td>\n",
       "    </tr>\n",
       "  </tbody>\n",
       "</table>\n",
       "</div>"
      ],
      "text/plain": [
       "       PLAYER NAME  SOLD PRICE  BASE PRICE  Premium COUNTRY\n",
       "50        Kohli, V     1800000      150000  1650000     IND\n",
       "113     Tiwary, SS     1600000      100000  1500000     IND\n",
       "127   Yuvraj Singh     1800000      400000  1400000     IND\n",
       "111  Tendulkar, SR     1800000      400000  1400000     IND\n",
       "93       Sehwag, V     1800000      400000  1400000     IND\n",
       "108     Symonds, A     1350000      250000  1100000     AUS\n",
       "15       Dhoni, MS     1500000      400000  1100000     IND\n",
       "39      Jadeja, RA      950000      100000   850000     IND\n",
       "95       Sharma, I      950000      150000   800000     IND\n",
       "3        Ashwin, R      850000      100000   750000     IND"
      ]
     },
     "execution_count": 12,
     "metadata": {},
     "output_type": "execute_result"
    }
   ],
   "source": [
    "df[['PLAYER NAME' ,'SOLD PRICE', 'BASE PRICE' ,'Premium','COUNTRY']].sort_values(by='Premium',ascending=False).head(10)\n",
    "\n",
    "# A DATAFRAME OF TOP 10 PLAYERS AFTER INSERTING THE PREMIUM COLUMN .SHOWING THE HIGHEST EARNED BY \n",
    "# 10 PLAYER'S.\n",
    "    "
   ]
  },
  {
   "cell_type": "markdown",
   "metadata": {},
   "source": [
    "Looking at the above figures one can infer, Virat Kohli earned the highest premium compared to his base price. Ashwin got placed in the last space for premium earned ,for top 10 premium earning players.\n",
    "Interestingly 9 indians in the top 10 premium earning players, and just one from Australia."
   ]
  },
  {
   "cell_type": "code",
   "execution_count": 13,
   "metadata": {},
   "outputs": [
    {
     "name": "stdout",
     "output_type": "stream",
     "text": [
      "AGE\n",
      "1    720250.000000\n",
      "2    484534.883721\n",
      "3    520178.571429\n",
      "Name: SOLD PRICE, dtype: float64\n"
     ]
    },
    {
     "data": {
      "text/html": [
       "<div>\n",
       "<style scoped>\n",
       "    .dataframe tbody tr th:only-of-type {\n",
       "        vertical-align: middle;\n",
       "    }\n",
       "\n",
       "    .dataframe tbody tr th {\n",
       "        vertical-align: top;\n",
       "    }\n",
       "\n",
       "    .dataframe thead th {\n",
       "        text-align: right;\n",
       "    }\n",
       "</style>\n",
       "<table border=\"1\" class=\"dataframe\">\n",
       "  <thead>\n",
       "    <tr style=\"text-align: right;\">\n",
       "      <th></th>\n",
       "      <th>AGE</th>\n",
       "      <th>SOLD PRICE</th>\n",
       "    </tr>\n",
       "  </thead>\n",
       "  <tbody>\n",
       "    <tr>\n",
       "      <th>0</th>\n",
       "      <td>1</td>\n",
       "      <td>720250.000000</td>\n",
       "    </tr>\n",
       "    <tr>\n",
       "      <th>1</th>\n",
       "      <td>2</td>\n",
       "      <td>484534.883721</td>\n",
       "    </tr>\n",
       "    <tr>\n",
       "      <th>2</th>\n",
       "      <td>3</td>\n",
       "      <td>520178.571429</td>\n",
       "    </tr>\n",
       "  </tbody>\n",
       "</table>\n",
       "</div>"
      ],
      "text/plain": [
       "   AGE     SOLD PRICE\n",
       "0    1  720250.000000\n",
       "1    2  484534.883721\n",
       "2    3  520178.571429"
      ]
     },
     "execution_count": 13,
     "metadata": {},
     "output_type": "execute_result"
    }
   ],
   "source": [
    "print(df.groupby('AGE')['SOLD PRICE'].mean())\n",
    "\n",
    "soldpriceby_age=df.groupby('AGE')['SOLD PRICE'].mean().reset_index()\n",
    "soldpriceby_age  ## we create a data frame soldpriceby_age using reset index method"
   ]
  },
  {
   "cell_type": "markdown",
   "metadata": {},
   "source": [
    "### From the above groupby code , we infer tht the average sold  price is highest for age category 1 and lowest for age cat.2"
   ]
  },
  {
   "cell_type": "code",
   "execution_count": 14,
   "metadata": {},
   "outputs": [
    {
     "data": {
      "text/html": [
       "<div>\n",
       "<style scoped>\n",
       "    .dataframe tbody tr th:only-of-type {\n",
       "        vertical-align: middle;\n",
       "    }\n",
       "\n",
       "    .dataframe tbody tr th {\n",
       "        vertical-align: top;\n",
       "    }\n",
       "\n",
       "    .dataframe thead th {\n",
       "        text-align: right;\n",
       "    }\n",
       "</style>\n",
       "<table border=\"1\" class=\"dataframe\">\n",
       "  <thead>\n",
       "    <tr style=\"text-align: right;\">\n",
       "      <th></th>\n",
       "      <th>AGE</th>\n",
       "      <th>PLAYING ROLE</th>\n",
       "      <th>SOLD PRICE</th>\n",
       "    </tr>\n",
       "  </thead>\n",
       "  <tbody>\n",
       "    <tr>\n",
       "      <th>0</th>\n",
       "      <td>1</td>\n",
       "      <td>Allrounder</td>\n",
       "      <td>5.875000e+05</td>\n",
       "    </tr>\n",
       "    <tr>\n",
       "      <th>1</th>\n",
       "      <td>1</td>\n",
       "      <td>Batsman</td>\n",
       "      <td>1.110000e+06</td>\n",
       "    </tr>\n",
       "    <tr>\n",
       "      <th>2</th>\n",
       "      <td>1</td>\n",
       "      <td>Bowler</td>\n",
       "      <td>5.177143e+05</td>\n",
       "    </tr>\n",
       "    <tr>\n",
       "      <th>3</th>\n",
       "      <td>2</td>\n",
       "      <td>Allrounder</td>\n",
       "      <td>4.494000e+05</td>\n",
       "    </tr>\n",
       "    <tr>\n",
       "      <th>4</th>\n",
       "      <td>2</td>\n",
       "      <td>Batsman</td>\n",
       "      <td>6.547619e+05</td>\n",
       "    </tr>\n",
       "    <tr>\n",
       "      <th>5</th>\n",
       "      <td>2</td>\n",
       "      <td>Bowler</td>\n",
       "      <td>3.979310e+05</td>\n",
       "    </tr>\n",
       "    <tr>\n",
       "      <th>6</th>\n",
       "      <td>2</td>\n",
       "      <td>W. Keeper</td>\n",
       "      <td>4.677273e+05</td>\n",
       "    </tr>\n",
       "    <tr>\n",
       "      <th>7</th>\n",
       "      <td>3</td>\n",
       "      <td>Allrounder</td>\n",
       "      <td>7.666667e+05</td>\n",
       "    </tr>\n",
       "    <tr>\n",
       "      <th>8</th>\n",
       "      <td>3</td>\n",
       "      <td>Batsman</td>\n",
       "      <td>4.576923e+05</td>\n",
       "    </tr>\n",
       "    <tr>\n",
       "      <th>9</th>\n",
       "      <td>3</td>\n",
       "      <td>Bowler</td>\n",
       "      <td>4.143750e+05</td>\n",
       "    </tr>\n",
       "    <tr>\n",
       "      <th>10</th>\n",
       "      <td>3</td>\n",
       "      <td>W. Keeper</td>\n",
       "      <td>7.000000e+05</td>\n",
       "    </tr>\n",
       "  </tbody>\n",
       "</table>\n",
       "</div>"
      ],
      "text/plain": [
       "    AGE PLAYING ROLE    SOLD PRICE\n",
       "0     1   Allrounder  5.875000e+05\n",
       "1     1      Batsman  1.110000e+06\n",
       "2     1       Bowler  5.177143e+05\n",
       "3     2   Allrounder  4.494000e+05\n",
       "4     2      Batsman  6.547619e+05\n",
       "5     2       Bowler  3.979310e+05\n",
       "6     2    W. Keeper  4.677273e+05\n",
       "7     3   Allrounder  7.666667e+05\n",
       "8     3      Batsman  4.576923e+05\n",
       "9     3       Bowler  4.143750e+05\n",
       "10    3    W. Keeper  7.000000e+05"
      ]
     },
     "execution_count": 14,
     "metadata": {},
     "output_type": "execute_result"
    }
   ],
   "source": [
    "soldpriceby_age_role=df.groupby(['AGE','PLAYING ROLE'])['SOLD PRICE'].mean().reset_index()\n",
    "\n",
    "soldpriceby_age_role  # remember I used mean here, as aggregate function on sold price"
   ]
  },
  {
   "cell_type": "markdown",
   "metadata": {},
   "source": [
    "Lets combine both the dataframe's that we just extracted, to analyse the average sold price by age\n",
    "and average sold price by playing role. Combining is similar to joins in SQL. I will use outer join\n",
    "here. I will rename the new dataframe as soldprice_comparison, you can use any name that you prefer.\n",
    "we should always have a common column in both dataframe's for joining to work properly. Our common column in both the fataframe's is the age column."
   ]
  },
  {
   "cell_type": "code",
   "execution_count": 15,
   "metadata": {},
   "outputs": [],
   "source": [
    "soldprice_comparison= soldpriceby_age_role.merge(right=soldpriceby_age,how='outer',on='AGE')"
   ]
  },
  {
   "cell_type": "code",
   "execution_count": 16,
   "metadata": {},
   "outputs": [
    {
     "name": "stdout",
     "output_type": "stream",
     "text": [
      "    AGE PLAYING ROLE  SOLD PRICE_x   SOLD PRICE_y\n",
      "0     1   Allrounder  5.875000e+05  720250.000000\n",
      "1     1      Batsman  1.110000e+06  720250.000000\n",
      "2     1       Bowler  5.177143e+05  720250.000000\n",
      "3     2   Allrounder  4.494000e+05  484534.883721\n",
      "4     2      Batsman  6.547619e+05  484534.883721\n",
      "5     2       Bowler  3.979310e+05  484534.883721\n",
      "6     2    W. Keeper  4.677273e+05  484534.883721\n",
      "7     3   Allrounder  7.666667e+05  520178.571429\n",
      "8     3      Batsman  4.576923e+05  520178.571429\n",
      "9     3       Bowler  4.143750e+05  520178.571429\n",
      "10    3    W. Keeper  7.000000e+05  520178.571429\n"
     ]
    }
   ],
   "source": [
    "print(soldprice_comparison)  # _x is values from first dataframe, and _y values are from second one\n",
    "                             # I can see the values from the firt sold price columns are not in proper\n",
    "                             #format. Let's fix this error in the next code.\n",
    "                             # some people won't get this error.If you encounter no issue, please skip\n",
    "                             #the rounding codes for the column, and proceed further"
   ]
  },
  {
   "cell_type": "code",
   "execution_count": 17,
   "metadata": {},
   "outputs": [],
   "source": [
    "soldprice_comparison['SOLD PRICE_x']=soldprice_comparison['SOLD PRICE_x'].round(decimals=3) \n",
    "soldprice_comparison['SOLD PRICE_y']=soldprice_comparison['SOLD PRICE_y'].round(decimals=3)\n",
    "# rounding the df to 2 decimal places "
   ]
  },
  {
   "cell_type": "code",
   "execution_count": 18,
   "metadata": {},
   "outputs": [
    {
     "data": {
      "text/html": [
       "<div>\n",
       "<style scoped>\n",
       "    .dataframe tbody tr th:only-of-type {\n",
       "        vertical-align: middle;\n",
       "    }\n",
       "\n",
       "    .dataframe tbody tr th {\n",
       "        vertical-align: top;\n",
       "    }\n",
       "\n",
       "    .dataframe thead th {\n",
       "        text-align: right;\n",
       "    }\n",
       "</style>\n",
       "<table border=\"1\" class=\"dataframe\">\n",
       "  <thead>\n",
       "    <tr style=\"text-align: right;\">\n",
       "      <th></th>\n",
       "      <th>AGE</th>\n",
       "      <th>PLAYING ROLE</th>\n",
       "      <th>SOLD PRICE_x</th>\n",
       "      <th>SOLD PRICE_y</th>\n",
       "    </tr>\n",
       "  </thead>\n",
       "  <tbody>\n",
       "    <tr>\n",
       "      <th>0</th>\n",
       "      <td>1</td>\n",
       "      <td>Allrounder</td>\n",
       "      <td>587500.000</td>\n",
       "      <td>720250.000</td>\n",
       "    </tr>\n",
       "    <tr>\n",
       "      <th>1</th>\n",
       "      <td>1</td>\n",
       "      <td>Batsman</td>\n",
       "      <td>1110000.000</td>\n",
       "      <td>720250.000</td>\n",
       "    </tr>\n",
       "    <tr>\n",
       "      <th>2</th>\n",
       "      <td>1</td>\n",
       "      <td>Bowler</td>\n",
       "      <td>517714.286</td>\n",
       "      <td>720250.000</td>\n",
       "    </tr>\n",
       "    <tr>\n",
       "      <th>3</th>\n",
       "      <td>2</td>\n",
       "      <td>Allrounder</td>\n",
       "      <td>449400.000</td>\n",
       "      <td>484534.884</td>\n",
       "    </tr>\n",
       "    <tr>\n",
       "      <th>4</th>\n",
       "      <td>2</td>\n",
       "      <td>Batsman</td>\n",
       "      <td>654761.905</td>\n",
       "      <td>484534.884</td>\n",
       "    </tr>\n",
       "    <tr>\n",
       "      <th>5</th>\n",
       "      <td>2</td>\n",
       "      <td>Bowler</td>\n",
       "      <td>397931.034</td>\n",
       "      <td>484534.884</td>\n",
       "    </tr>\n",
       "    <tr>\n",
       "      <th>6</th>\n",
       "      <td>2</td>\n",
       "      <td>W. Keeper</td>\n",
       "      <td>467727.273</td>\n",
       "      <td>484534.884</td>\n",
       "    </tr>\n",
       "    <tr>\n",
       "      <th>7</th>\n",
       "      <td>3</td>\n",
       "      <td>Allrounder</td>\n",
       "      <td>766666.667</td>\n",
       "      <td>520178.571</td>\n",
       "    </tr>\n",
       "    <tr>\n",
       "      <th>8</th>\n",
       "      <td>3</td>\n",
       "      <td>Batsman</td>\n",
       "      <td>457692.308</td>\n",
       "      <td>520178.571</td>\n",
       "    </tr>\n",
       "    <tr>\n",
       "      <th>9</th>\n",
       "      <td>3</td>\n",
       "      <td>Bowler</td>\n",
       "      <td>414375.000</td>\n",
       "      <td>520178.571</td>\n",
       "    </tr>\n",
       "    <tr>\n",
       "      <th>10</th>\n",
       "      <td>3</td>\n",
       "      <td>W. Keeper</td>\n",
       "      <td>700000.000</td>\n",
       "      <td>520178.571</td>\n",
       "    </tr>\n",
       "  </tbody>\n",
       "</table>\n",
       "</div>"
      ],
      "text/plain": [
       "    AGE PLAYING ROLE  SOLD PRICE_x  SOLD PRICE_y\n",
       "0     1   Allrounder    587500.000    720250.000\n",
       "1     1      Batsman   1110000.000    720250.000\n",
       "2     1       Bowler    517714.286    720250.000\n",
       "3     2   Allrounder    449400.000    484534.884\n",
       "4     2      Batsman    654761.905    484534.884\n",
       "5     2       Bowler    397931.034    484534.884\n",
       "6     2    W. Keeper    467727.273    484534.884\n",
       "7     3   Allrounder    766666.667    520178.571\n",
       "8     3      Batsman    457692.308    520178.571\n",
       "9     3       Bowler    414375.000    520178.571\n",
       "10    3    W. Keeper    700000.000    520178.571"
      ]
     },
     "execution_count": 18,
     "metadata": {},
     "output_type": "execute_result"
    }
   ],
   "source": [
    "soldprice_comparison  # this is how my rounded values in the daataframe looks like !!\n",
    "                      # you can also use df.astype() method if the above method doesn't work"
   ]
  },
  {
   "cell_type": "markdown",
   "metadata": {},
   "source": [
    "My next line of codes should be to rename the column names. As I can see, post merging dataframes,the \n",
    "sold price column has been automatically renamed as _x,and _Y. The x values are from the first df, and\n",
    "the y values from the second. So it's good to rename the column names in the next line of codes."
   ]
  },
  {
   "cell_type": "code",
   "execution_count": 19,
   "metadata": {},
   "outputs": [
    {
     "name": "stdout",
     "output_type": "stream",
     "text": [
      "    AGE PLAYING ROLE  SOLD_PRICE_AGE_ROLE  SOLD_PRICE_AGE\n",
      "0     1   Allrounder            587500.00       720250.00\n",
      "1     1      Batsman           1110000.00       720250.00\n",
      "2     1       Bowler            517714.29       720250.00\n",
      "3     2   Allrounder            449400.00       484534.88\n",
      "4     2      Batsman            654761.90       484534.88\n",
      "5     2       Bowler            397931.03       484534.88\n",
      "6     2    W. Keeper            467727.27       484534.88\n",
      "7     3   Allrounder            766666.67       520178.57\n",
      "8     3      Batsman            457692.31       520178.57\n",
      "9     3       Bowler            414375.00       520178.57\n",
      "10    3    W. Keeper            700000.00       520178.57\n"
     ]
    }
   ],
   "source": [
    "soldprice_comparison.rename(columns={'SOLD PRICE_x':'SOLD_PRICE_AGE_ROLE',\n",
    "                                     'SOLD PRICE_y':'SOLD_PRICE_AGE'},inplace=True)\n",
    "soldprice_comparison=soldprice_comparison.round(decimals=2)\n",
    "print(soldprice_comparison)           \n",
    "\n",
    "# passing a dictionary as argument for column names.You can see renaming column names is successful\n",
    "                                       "
   ]
  },
  {
   "cell_type": "markdown",
   "metadata": {},
   "source": [
    "Let me explain to you the above 2 columns and, why I have taken averages from 2 colums. The sold price\n",
    "by age role shows the mean sold price by role and age group, whereas the sold price age column values\n",
    "shows us the mean/averaage sold price by just one categorical variable AGE.\n",
    "For example, average sold price for age group 2 is 484534, and the average for the same age group of 2 for an all rounder player is 449400. So, it's a good measure for providng mean values."
   ]
  },
  {
   "cell_type": "code",
   "execution_count": 20,
   "metadata": {},
   "outputs": [
    {
     "data": {
      "text/html": [
       "<div>\n",
       "<style scoped>\n",
       "    .dataframe tbody tr th:only-of-type {\n",
       "        vertical-align: middle;\n",
       "    }\n",
       "\n",
       "    .dataframe tbody tr th {\n",
       "        vertical-align: top;\n",
       "    }\n",
       "\n",
       "    .dataframe thead th {\n",
       "        text-align: right;\n",
       "    }\n",
       "</style>\n",
       "<table border=\"1\" class=\"dataframe\">\n",
       "  <thead>\n",
       "    <tr style=\"text-align: right;\">\n",
       "      <th></th>\n",
       "      <th>AGE</th>\n",
       "      <th>PLAYING ROLE</th>\n",
       "      <th>SOLD_PRICE_AGE_ROLE</th>\n",
       "      <th>SOLD_PRICE_AGE</th>\n",
       "      <th>Change</th>\n",
       "    </tr>\n",
       "  </thead>\n",
       "  <tbody>\n",
       "    <tr>\n",
       "      <th>0</th>\n",
       "      <td>1</td>\n",
       "      <td>Allrounder</td>\n",
       "      <td>587500.00</td>\n",
       "      <td>720250.00</td>\n",
       "      <td>-0.18</td>\n",
       "    </tr>\n",
       "    <tr>\n",
       "      <th>1</th>\n",
       "      <td>1</td>\n",
       "      <td>Batsman</td>\n",
       "      <td>1110000.00</td>\n",
       "      <td>720250.00</td>\n",
       "      <td>0.54</td>\n",
       "    </tr>\n",
       "    <tr>\n",
       "      <th>2</th>\n",
       "      <td>1</td>\n",
       "      <td>Bowler</td>\n",
       "      <td>517714.29</td>\n",
       "      <td>720250.00</td>\n",
       "      <td>-0.28</td>\n",
       "    </tr>\n",
       "    <tr>\n",
       "      <th>3</th>\n",
       "      <td>2</td>\n",
       "      <td>Allrounder</td>\n",
       "      <td>449400.00</td>\n",
       "      <td>484534.88</td>\n",
       "      <td>-0.07</td>\n",
       "    </tr>\n",
       "    <tr>\n",
       "      <th>4</th>\n",
       "      <td>2</td>\n",
       "      <td>Batsman</td>\n",
       "      <td>654761.90</td>\n",
       "      <td>484534.88</td>\n",
       "      <td>0.35</td>\n",
       "    </tr>\n",
       "    <tr>\n",
       "      <th>5</th>\n",
       "      <td>2</td>\n",
       "      <td>Bowler</td>\n",
       "      <td>397931.03</td>\n",
       "      <td>484534.88</td>\n",
       "      <td>-0.18</td>\n",
       "    </tr>\n",
       "    <tr>\n",
       "      <th>6</th>\n",
       "      <td>2</td>\n",
       "      <td>W. Keeper</td>\n",
       "      <td>467727.27</td>\n",
       "      <td>484534.88</td>\n",
       "      <td>-0.03</td>\n",
       "    </tr>\n",
       "    <tr>\n",
       "      <th>7</th>\n",
       "      <td>3</td>\n",
       "      <td>Allrounder</td>\n",
       "      <td>766666.67</td>\n",
       "      <td>520178.57</td>\n",
       "      <td>0.47</td>\n",
       "    </tr>\n",
       "    <tr>\n",
       "      <th>8</th>\n",
       "      <td>3</td>\n",
       "      <td>Batsman</td>\n",
       "      <td>457692.31</td>\n",
       "      <td>520178.57</td>\n",
       "      <td>-0.12</td>\n",
       "    </tr>\n",
       "    <tr>\n",
       "      <th>9</th>\n",
       "      <td>3</td>\n",
       "      <td>Bowler</td>\n",
       "      <td>414375.00</td>\n",
       "      <td>520178.57</td>\n",
       "      <td>-0.20</td>\n",
       "    </tr>\n",
       "    <tr>\n",
       "      <th>10</th>\n",
       "      <td>3</td>\n",
       "      <td>W. Keeper</td>\n",
       "      <td>700000.00</td>\n",
       "      <td>520178.57</td>\n",
       "      <td>0.35</td>\n",
       "    </tr>\n",
       "  </tbody>\n",
       "</table>\n",
       "</div>"
      ],
      "text/plain": [
       "    AGE PLAYING ROLE  SOLD_PRICE_AGE_ROLE  SOLD_PRICE_AGE  Change\n",
       "0     1   Allrounder            587500.00       720250.00   -0.18\n",
       "1     1      Batsman           1110000.00       720250.00    0.54\n",
       "2     1       Bowler            517714.29       720250.00   -0.28\n",
       "3     2   Allrounder            449400.00       484534.88   -0.07\n",
       "4     2      Batsman            654761.90       484534.88    0.35\n",
       "5     2       Bowler            397931.03       484534.88   -0.18\n",
       "6     2    W. Keeper            467727.27       484534.88   -0.03\n",
       "7     3   Allrounder            766666.67       520178.57    0.47\n",
       "8     3      Batsman            457692.31       520178.57   -0.12\n",
       "9     3       Bowler            414375.00       520178.57   -0.20\n",
       "10    3    W. Keeper            700000.00       520178.57    0.35"
      ]
     },
     "execution_count": 20,
     "metadata": {},
     "output_type": "execute_result"
    }
   ],
   "source": [
    "soldprice_comparison['Change']=(soldprice_comparison['SOLD_PRICE_AGE_ROLE']-\n",
    "                                soldprice_comparison['SOLD_PRICE_AGE'])/soldprice_comparison['SOLD_PRICE_AGE']\n",
    "# creating new column for the change\n",
    "\n",
    "soldprice_comparison['Change']=soldprice_comparison['Change'].round(2) #rounding the values to 2decimal\n",
    "soldprice_comparison"
   ]
  },
  {
   "cell_type": "markdown",
   "metadata": {},
   "source": [
    "###### in the above dataframe I have added a new column for change.The formula for change is (Sold price by age role - sold price age/ sold price age). This measure helps us know the change relative to the sold price of player's belonging to a particular role from the mean sold price by age."
   ]
  },
  {
   "cell_type": "markdown",
   "metadata": {},
   "source": [
    "## Let's jump to data visualization using matplotlib and seaborn. Your earlier codes and extracted data frames would be now useful for us, as most of the time we will use the extracted data from the original dataframe."
   ]
  },
  {
   "cell_type": "code",
   "execution_count": 21,
   "metadata": {},
   "outputs": [
    {
     "name": "stdout",
     "output_type": "stream",
     "text": [
      "   AGE     SOLD PRICE\n",
      "0    1  720250.000000\n",
      "1    2  484534.883721\n",
      "2    3  520178.571429\n"
     ]
    },
    {
     "data": {
      "text/plain": [
       "<matplotlib.axes._subplots.AxesSubplot at 0x18e21e70630>"
      ]
     },
     "execution_count": 21,
     "metadata": {},
     "output_type": "execute_result"
    },
    {
     "data": {
      "image/png": "[encoded data removed]",
      "text/plain": [
       "<Figure size 432x288 with 1 Axes>"
      ]
     },
     "metadata": {
      "needs_background": "light"
     },
     "output_type": "display_data"
    }
   ],
   "source": [
    "import seaborn as sb\n",
    "print(soldpriceby_age)         # always look your data before plotting it.So it's better to print it\n",
    "\n",
    "plt.title('Average sold price by age group',pad=+20)\n",
    "plt.xlabel(\"Age group\")\n",
    "sb.barplot(x='AGE',data=soldpriceby_age,y='SOLD PRICE')"
   ]
  },
  {
   "cell_type": "markdown",
   "metadata": {},
   "source": [
    "#The above fig. tells us the average sold price of a player falling into a specific age group. Age\n",
    "group 1 has the highest mean sold price and 2nd age group the lowest."
   ]
  },
  {
   "cell_type": "code",
   "execution_count": 22,
   "metadata": {},
   "outputs": [
    {
     "name": "stdout",
     "output_type": "stream",
     "text": [
      "This is the data we want to plot\n",
      "    AGE PLAYING ROLE  SOLD_PRICE_AGE_ROLE  SOLD_PRICE_AGE  Change\n",
      "0     1   Allrounder            587500.00       720250.00   -0.18\n",
      "1     1      Batsman           1110000.00       720250.00    0.54\n",
      "2     1       Bowler            517714.29       720250.00   -0.28\n",
      "3     2   Allrounder            449400.00       484534.88   -0.07\n",
      "4     2      Batsman            654761.90       484534.88    0.35\n",
      "5     2       Bowler            397931.03       484534.88   -0.18\n",
      "6     2    W. Keeper            467727.27       484534.88   -0.03\n",
      "7     3   Allrounder            766666.67       520178.57    0.47\n",
      "8     3      Batsman            457692.31       520178.57   -0.12\n",
      "9     3       Bowler            414375.00       520178.57   -0.20\n",
      "10    3    W. Keeper            700000.00       520178.57    0.35\n"
     ]
    },
    {
     "data": {
      "text/plain": [
       "<matplotlib.axes._subplots.AxesSubplot at 0x18e21eee208>"
      ]
     },
     "execution_count": 22,
     "metadata": {},
     "output_type": "execute_result"
    },
    {
     "data": {
      "image/png": "[encoded data removed]",
      "text/plain": [
       "<Figure size 576x432 with 1 Axes>"
      ]
     },
     "metadata": {
      "needs_background": "light"
     },
     "output_type": "display_data"
    }
   ],
   "source": [
    "print(\"This is the data we want to plot\")  \n",
    "\n",
    "print(soldprice_comparison)\n",
    "\n",
    "plt.figure(figsize=[8,6])\n",
    "plt.title(\"Average sold price VS age and role\")\n",
    "sb.barplot(x='AGE',y=\"SOLD_PRICE_AGE_ROLE\",data=soldprice_comparison,\n",
    "           hue='PLAYING ROLE',palette=\"ocean_r\")"
   ]
  },
  {
   "cell_type": "markdown",
   "metadata": {},
   "source": [
    "### You can easily infer from the figure that ,batsman have a higher average sold price,when age and role both are considered. Bowler' from the age group of 2 and 3 have similar average sold price, but higher for age group 1.  Highest average sold price for an Allrounder player is offered from age group 3  , wicket keepers from age group 3 are also paid the highest. Finally we can say, a player aged more than 35 years being an allrounder or wicket keeper is likely to earn more on his sold price compared to a bowler or batsman from the same age group."
   ]
  },
  {
   "cell_type": "markdown",
   "metadata": {},
   "source": [
    "Lets create a histogram for the sold price of players from the original dataset df. A histogram shows\n",
    "the frequency of a continuous variable. Here our sold price is a continous variable. Plotting a hist.\n",
    "helps us visualise the distribution of the data we are dealing with. By plottng the variable we can\n",
    "easily infer whether it follows normal,poisson,exponential distribution etc and/or it's skewness,tails, and kurtosis.\n",
    "\n",
    "To plot a histogram matplotlib has plt.hist() function that will plot the histogram for us. But it's\n",
    "alwyas better to know the classes ,and the number of bins we need , so we can supply the bins parameter to the plt.hist() function.\n",
    "\n",
    "The 'Sturges formula'  is as below.\n",
    "\n",
    "Number of classes = 1+3.322logN  (N is the number of variables we are plotting).                       \n",
    "range= maximum-minimum observation.\n",
    "\n",
    "width of the class = range/number of classes.\n"
   ]
  },
  {
   "cell_type": "markdown",
   "metadata": {},
   "source": [
    "# Finding the number of classes and width of class intervals"
   ]
  },
  {
   "cell_type": "code",
   "execution_count": 23,
   "metadata": {},
   "outputs": [
    {
     "name": "stdout",
     "output_type": "stream",
     "text": [
      "The range for sold price is:1780000\n",
      "The number of classes is:8.022519816363312:Rounding it to 8\n",
      "the width of each class is:221875.42576951734\n"
     ]
    }
   ],
   "source": [
    "\n",
    "\n",
    "import math as math                  #you must import this module , as we need to find log base 10 N\n",
    "\n",
    "range = df[\"SOLD PRICE\"].max() - df[\"SOLD PRICE\"].min()      # code to find the range\n",
    "\n",
    "N=len(df['SOLD PRICE'])                 # to find the number of observations in the soldprice column\n",
    "\n",
    "log10N_value= math.log10(N)                   #using math module to find value of log base10 * n\n",
    "number_of_classes= 1+(3.322*log10N_value)\n",
    "\n",
    "width=range/number_of_classes               # to find width of class intervals\n",
    "\n",
    "print(\"The range for sold price is\",range,sep=\":\") \n",
    "print(\"The number of classes is\",number_of_classes,\"Rounding it to 8\",sep=\":\")\n",
    "print(\"the width of each class is\",width,sep=\":\")"
   ]
  },
  {
   "cell_type": "markdown",
   "metadata": {},
   "source": [
    "Though it's not necessary to find the classes and width, as matplotlib automatically does all the \n",
    "calculation for us, it's always safe to know the calculation.By default the number of bins plotted by matplotlib is 10,we can change it as per\n",
    "visualisation requirement. I did the above calculation as, \"it is always good, to know more\" !!\n"
   ]
  },
  {
   "cell_type": "code",
   "execution_count": 24,
   "metadata": {},
   "outputs": [
    {
     "name": "stdout",
     "output_type": "stream",
     "text": [
      "Sold price variable skewness is||1.3769563128973714\n"
     ]
    },
    {
     "data": {
      "image/png": "[encoded data removed]",
      "text/plain": [
       "<Figure size 576x432 with 1 Axes>"
      ]
     },
     "metadata": {
      "needs_background": "light"
     },
     "output_type": "display_data"
    }
   ],
   "source": [
    "\n",
    "#increase the bins for better visualization \n",
    "\n",
    "plt.figure(figsize=[8,6])\n",
    "plt.title(\"Histrogram for sold price\")\n",
    "plt.xlabel(\"Class Intervals\")\n",
    "\n",
    "plt.hist(x=df['SOLD PRICE'],bins=15,color='magenta') \n",
    "print(\"Sold price variable skewness is\",df[\"SOLD PRICE\"].skew(skipna=True),sep=\"||\")\n",
    "                                                                       "
   ]
  },
  {
   "cell_type": "markdown",
   "metadata": {
    "slideshow": {
     "slide_type": "-"
    }
   },
   "source": [
    "From the histogram ,I can say the sold price variable is skewed to the right. I can also infer from the diagram\n",
    "that most players are auctioned at a lower class price range of 2,50,000-5,00,000.\n",
    "The plotted graph also  tells us, there are very few player's who are being auctioned, at a higher sold price range\n",
    "of 10,00,000-17,50,000"
   ]
  },
  {
   "cell_type": "code",
   "execution_count": 25,
   "metadata": {},
   "outputs": [
    {
     "name": "stderr",
     "output_type": "stream",
     "text": [
      "C:\\ProgramData\\Anaconda3\\lib\\site-packages\\seaborn\\distributions.py:2619: FutureWarning: `distplot` is a deprecated function and will be removed in a future version. Please adapt your code to use either `displot` (a figure-level function with similar flexibility) or `histplot` (an axes-level function for histograms).\n",
      "  warnings.warn(msg, FutureWarning)\n",
      "C:\\ProgramData\\Anaconda3\\lib\\site-packages\\matplotlib\\cbook\\__init__.py:1402: FutureWarning: Support for multi-dimensional indexing (e.g. `obj[:, None]`) is deprecated and will be removed in a future version.  Convert to a numpy array before indexing instead.\n",
      "  x[:, None]\n",
      "C:\\ProgramData\\Anaconda3\\lib\\site-packages\\matplotlib\\axes\\_base.py:276: FutureWarning: Support for multi-dimensional indexing (e.g. `obj[:, None]`) is deprecated and will be removed in a future version.  Convert to a numpy array before indexing instead.\n",
      "  x = x[:, np.newaxis]\n",
      "C:\\ProgramData\\Anaconda3\\lib\\site-packages\\matplotlib\\axes\\_base.py:278: FutureWarning: Support for multi-dimensional indexing (e.g. `obj[:, None]`) is deprecated and will be removed in a future version.  Convert to a numpy array before indexing instead.\n",
      "  y = y[:, np.newaxis]\n",
      "C:\\ProgramData\\Anaconda3\\lib\\site-packages\\seaborn\\distributions.py:2103: FutureWarning: The `axis` variable is no longer used and will be removed. Instead, assign variables directly to `x` or `y`.\n",
      "  warnings.warn(msg, FutureWarning)\n"
     ]
    },
    {
     "data": {
      "text/plain": [
       "<matplotlib.axes._subplots.AxesSubplot at 0x18e220374e0>"
      ]
     },
     "execution_count": 25,
     "metadata": {},
     "output_type": "execute_result"
    },
    {
     "data": {
      "image/png": "[encoded data removed]",
      "text/plain": [
       "<Figure size 576x432 with 1 Axes>"
      ]
     },
     "metadata": {
      "needs_background": "light"
     },
     "output_type": "display_data"
    }
   ],
   "source": [
    "plt.figure(figsize=[8,6])\n",
    "plt.title('Distribution plot of sold price')\n",
    "sb.distplot(df[\"SOLD PRICE\"],color='r',rug='True')\n",
    "\n",
    "# distribution plot for sold price variable"
   ]
  },
  {
   "cell_type": "markdown",
   "metadata": {},
   "source": [
    "Have a look at the rugs(small pipe symbols at bottom). I hope, I dont need to write any more to explain\n",
    "that, most player's are being sold at a price range of greater than 0 -- less than 5,00,000. The thicker the pipe symbols, the more frequent the value occurs. Very few player's are being\n",
    "offered a price greater than 1Million"
   ]
  },
  {
   "cell_type": "markdown",
   "metadata": {},
   "source": [
    "A box plot is used to assess the variability of the data and to check for existence of outliers.\n",
    "A box plot is made up of lower ,second ,and third quartile ,the lowest and highest values and the \n",
    "inter quartile range. Second quartile is aka the median of a set of numerial observation. The dots \n",
    "that you see are the potential outlier's for this dataset. The whiskers at both ends are the min and\n",
    "max values calculated by the boxplot function. In other words the boxplot expresses the min and max\n",
    "values that should have been observed for this dataset."
   ]
  },
  {
   "cell_type": "code",
   "execution_count": 26,
   "metadata": {},
   "outputs": [
    {
     "data": {
      "text/plain": [
       "<matplotlib.axes._subplots.AxesSubplot at 0x18e21fd3710>"
      ]
     },
     "execution_count": 26,
     "metadata": {},
     "output_type": "execute_result"
    },
    {
     "data": {
      "image/png": "[encoded data removed]",
      "text/plain": [
       "<Figure size 576x360 with 1 Axes>"
      ]
     },
     "metadata": {
      "needs_background": "light"
     },
     "output_type": "display_data"
    }
   ],
   "source": [
    "plt.figure(figsize=[8,5])\n",
    "plt.title(\"Box and Whiskers plot for Sold Price\")\n",
    "plt.xlabel(\"sold price\")\n",
    "\n",
    "sb.boxplot(data=df[\"SOLD PRICE\"],palette='viridis',orient='h') #orient as h, for horizontal plotting\n",
    "\n"
   ]
  },
  {
   "cell_type": "markdown",
   "metadata": {},
   "source": [
    "### What could you infer from the box plot? Could you derive the, exact median,Q1,Q3,Min, and Max values?"
   ]
  },
  {
   "cell_type": "markdown",
   "metadata": {},
   "source": [
    "While looking at the box plot ,I can guess the values of the median,q3 etc. Nevertheless , neither I\n",
    "nor you , can provide the exact figures. Do you agree?. So ,how to derive the exact values from the\n",
    "boxplot?. There is a way to do that, matplotlib will store the boxplot into a variable, and then I will\n",
    "extract the figures using codes. It's very important so , learn the codes by heart. We will first plot\n",
    "boxplot using matplotlib ,not seaborn."
   ]
  },
  {
   "cell_type": "code",
   "execution_count": 27,
   "metadata": {},
   "outputs": [
    {
     "data": {
      "image/png": "[encoded data removed]",
      "text/plain": [
       "<Figure size 576x360 with 1 Axes>"
      ]
     },
     "metadata": {
      "needs_background": "light"
     },
     "output_type": "display_data"
    }
   ],
   "source": [
    "plt.figure(figsize=[8,5])\n",
    "plt.title(\"Box and Whiskers plot for Sold Price\")\n",
    "plt.ylabel(\"sold price\")\n",
    "\n",
    "box=plt.boxplot(df['SOLD PRICE'],showfliers=True,showcaps=True,notch=True,meanline=True) \n",
    "# plotting a boxplot and saving it to box variable"
   ]
  },
  {
   "cell_type": "markdown",
   "metadata": {},
   "source": [
    "#### Let's extract the min,max,q1,median,q3 and outliers for IPL player's soldprice using boxplot"
   ]
  },
  {
   "cell_type": "code",
   "execution_count": 28,
   "metadata": {},
   "outputs": [
    {
     "name": "stdout",
     "output_type": "stream",
     "text": [
      "the minimum and maximum values are:[20000.0, 1350000.0]\n"
     ]
    }
   ],
   "source": [
    " #the caps key in box returns the min and max values\n",
    "print(\"the minimum and maximum values are\",[item.get_ydata()[0] for item in box['caps']],sep=':')"
   ]
  },
  {
   "cell_type": "code",
   "execution_count": 29,
   "metadata": {},
   "outputs": [
    {
     "name": "stdout",
     "output_type": "stream",
     "text": [
      "The values for Q1 and Q3 are:[225000.0, 700000.0]\n"
     ]
    }
   ],
   "source": [
    " # the whishkers key returns the Q1 and Q3\n",
    "print('The values for Q1 and Q3 are',[item.get_ydata()[0] for item in box['whiskers']],sep=':')"
   ]
  },
  {
   "cell_type": "code",
   "execution_count": 30,
   "metadata": {},
   "outputs": [
    {
     "name": "stdout",
     "output_type": "stream",
     "text": [
      "The median value is :[437500.0]\n"
     ]
    }
   ],
   "source": [
    "  # medians key in box returns the median\n",
    "print(\"The median value is \",[item.get_ydata()[0] for item in box['medians']],sep=\":\")"
   ]
  },
  {
   "cell_type": "markdown",
   "metadata": {},
   "source": [
    "The Inter Quartile Range is defined as Q3-Q1. We already have the Q1 and Q3 values available with us"
   ]
  },
  {
   "cell_type": "code",
   "execution_count": 31,
   "metadata": {},
   "outputs": [
    {
     "name": "stdout",
     "output_type": "stream",
     "text": [
      "The interquartile range is: 475000\n"
     ]
    }
   ],
   "source": [
    "'''IQR = Q3-Q1'''\n",
    "\n",
    "IQR = 700000-225000 # storing iqr\n",
    "print(\"The interquartile range is\",IQR,sep=\": \")"
   ]
  },
  {
   "cell_type": "markdown",
   "metadata": {},
   "source": [
    "The maximum value predicted by boxplot is 13,50,000. It means ,obsevations beyond this value are considered\n",
    "as outliers by the boxplot, for this dataset. Now let's find out the player's who are considered as\n",
    "outliers ,i.e,player's whose sold price is greater than 13,50,000"
   ]
  },
  {
   "cell_type": "code",
   "execution_count": 32,
   "metadata": {},
   "outputs": [
    {
     "data": {
      "text/html": [
       "<div>\n",
       "<style scoped>\n",
       "    .dataframe tbody tr th:only-of-type {\n",
       "        vertical-align: middle;\n",
       "    }\n",
       "\n",
       "    .dataframe tbody tr th {\n",
       "        vertical-align: top;\n",
       "    }\n",
       "\n",
       "    .dataframe thead th {\n",
       "        text-align: right;\n",
       "    }\n",
       "</style>\n",
       "<table border=\"1\" class=\"dataframe\">\n",
       "  <thead>\n",
       "    <tr style=\"text-align: right;\">\n",
       "      <th></th>\n",
       "      <th>PLAYER NAME</th>\n",
       "      <th>PLAYING ROLE</th>\n",
       "      <th>SOLD PRICE</th>\n",
       "      <th>COUNTRY</th>\n",
       "      <th>SIXERS</th>\n",
       "      <th>TEAM</th>\n",
       "    </tr>\n",
       "  </thead>\n",
       "  <tbody>\n",
       "    <tr>\n",
       "      <th>15</th>\n",
       "      <td>Dhoni, MS</td>\n",
       "      <td>W. Keeper</td>\n",
       "      <td>1500000</td>\n",
       "      <td>IND</td>\n",
       "      <td>64</td>\n",
       "      <td>CSK</td>\n",
       "    </tr>\n",
       "    <tr>\n",
       "      <th>23</th>\n",
       "      <td>Flintoff, A</td>\n",
       "      <td>Allrounder</td>\n",
       "      <td>1550000</td>\n",
       "      <td>ENG</td>\n",
       "      <td>2</td>\n",
       "      <td>CSK</td>\n",
       "    </tr>\n",
       "    <tr>\n",
       "      <th>50</th>\n",
       "      <td>Kohli, V</td>\n",
       "      <td>Batsman</td>\n",
       "      <td>1800000</td>\n",
       "      <td>IND</td>\n",
       "      <td>49</td>\n",
       "      <td>RCB</td>\n",
       "    </tr>\n",
       "    <tr>\n",
       "      <th>83</th>\n",
       "      <td>Pietersen, KP</td>\n",
       "      <td>Batsman</td>\n",
       "      <td>1550000</td>\n",
       "      <td>ENG</td>\n",
       "      <td>30</td>\n",
       "      <td>RCB+</td>\n",
       "    </tr>\n",
       "    <tr>\n",
       "      <th>93</th>\n",
       "      <td>Sehwag, V</td>\n",
       "      <td>Batsman</td>\n",
       "      <td>1800000</td>\n",
       "      <td>IND</td>\n",
       "      <td>79</td>\n",
       "      <td>DD</td>\n",
       "    </tr>\n",
       "    <tr>\n",
       "      <th>108</th>\n",
       "      <td>Symonds, A</td>\n",
       "      <td>Allrounder</td>\n",
       "      <td>1350000</td>\n",
       "      <td>AUS</td>\n",
       "      <td>41</td>\n",
       "      <td>DC+</td>\n",
       "    </tr>\n",
       "    <tr>\n",
       "      <th>111</th>\n",
       "      <td>Tendulkar, SR</td>\n",
       "      <td>Batsman</td>\n",
       "      <td>1800000</td>\n",
       "      <td>IND</td>\n",
       "      <td>24</td>\n",
       "      <td>MI</td>\n",
       "    </tr>\n",
       "    <tr>\n",
       "      <th>113</th>\n",
       "      <td>Tiwary, SS</td>\n",
       "      <td>Batsman</td>\n",
       "      <td>1600000</td>\n",
       "      <td>IND</td>\n",
       "      <td>32</td>\n",
       "      <td>MI+</td>\n",
       "    </tr>\n",
       "    <tr>\n",
       "      <th>127</th>\n",
       "      <td>Yuvraj Singh</td>\n",
       "      <td>Batsman</td>\n",
       "      <td>1800000</td>\n",
       "      <td>IND</td>\n",
       "      <td>67</td>\n",
       "      <td>KXIP+</td>\n",
       "    </tr>\n",
       "  </tbody>\n",
       "</table>\n",
       "</div>"
      ],
      "text/plain": [
       "       PLAYER NAME PLAYING ROLE  SOLD PRICE COUNTRY  SIXERS   TEAM\n",
       "15       Dhoni, MS    W. Keeper     1500000     IND      64    CSK\n",
       "23     Flintoff, A   Allrounder     1550000     ENG       2    CSK\n",
       "50        Kohli, V      Batsman     1800000     IND      49    RCB\n",
       "83   Pietersen, KP      Batsman     1550000     ENG      30   RCB+\n",
       "93       Sehwag, V      Batsman     1800000     IND      79     DD\n",
       "108     Symonds, A   Allrounder     1350000     AUS      41    DC+\n",
       "111  Tendulkar, SR      Batsman     1800000     IND      24     MI\n",
       "113     Tiwary, SS      Batsman     1600000     IND      32    MI+\n",
       "127   Yuvraj Singh      Batsman     1800000     IND      67  KXIP+"
      ]
     },
     "execution_count": 32,
     "metadata": {},
     "output_type": "execute_result"
    }
   ],
   "source": [
    "df[df[\"SOLD PRICE\"] >= 1350000]  [['PLAYER NAME','PLAYING ROLE','SOLD PRICE','COUNTRY','SIXERS','TEAM']]"
   ]
  },
  {
   "cell_type": "markdown",
   "metadata": {},
   "source": [
    "From the extracted dataframe, I can pointout the players ,whose sold price is considered an outlier by\n",
    "the boxplot function. Eventually ,we can say, these players distort the distribution of the data. While\n",
    "predicting the sold price of players using sklearn, we must be cautious , as these sold prices are not\n",
    "likely to occur frequently. There is a treatement in sklearn to deal with outliers, or we can apply \n",
    "mahalabonis or cook's distance, to find the outliers,and there respective effect on values. Presence\n",
    "of outliers can have significant influence on the regression coefficients, so it's always crucial to \n",
    "detect the outliers in the dataset you are dealing with. Look at Flintoff, he seems out of form to me, just 2 sixers in pre IPL( matches for which data collected),and still getting big money !! .\n",
    "Yuvi,saching,kohli,sehwag all sold for same price, although they belong to different teams, How?"
   ]
  },
  {
   "cell_type": "code",
   "execution_count": 33,
   "metadata": {},
   "outputs": [
    {
     "name": "stderr",
     "output_type": "stream",
     "text": [
      "C:\\ProgramData\\Anaconda3\\lib\\site-packages\\seaborn\\distributions.py:2619: FutureWarning: `distplot` is a deprecated function and will be removed in a future version. Please adapt your code to use either `displot` (a figure-level function with similar flexibility) or `histplot` (an axes-level function for histograms).\n",
      "  warnings.warn(msg, FutureWarning)\n",
      "C:\\ProgramData\\Anaconda3\\lib\\site-packages\\matplotlib\\cbook\\__init__.py:1402: FutureWarning: Support for multi-dimensional indexing (e.g. `obj[:, None]`) is deprecated and will be removed in a future version.  Convert to a numpy array before indexing instead.\n",
      "  x[:, None]\n",
      "C:\\ProgramData\\Anaconda3\\lib\\site-packages\\matplotlib\\axes\\_base.py:276: FutureWarning: Support for multi-dimensional indexing (e.g. `obj[:, None]`) is deprecated and will be removed in a future version.  Convert to a numpy array before indexing instead.\n",
      "  x = x[:, np.newaxis]\n",
      "C:\\ProgramData\\Anaconda3\\lib\\site-packages\\matplotlib\\axes\\_base.py:278: FutureWarning: Support for multi-dimensional indexing (e.g. `obj[:, None]`) is deprecated and will be removed in a future version.  Convert to a numpy array before indexing instead.\n",
      "  y = y[:, np.newaxis]\n",
      "C:\\ProgramData\\Anaconda3\\lib\\site-packages\\seaborn\\distributions.py:2619: FutureWarning: `distplot` is a deprecated function and will be removed in a future version. Please adapt your code to use either `displot` (a figure-level function with similar flexibility) or `histplot` (an axes-level function for histograms).\n",
      "  warnings.warn(msg, FutureWarning)\n",
      "C:\\ProgramData\\Anaconda3\\lib\\site-packages\\matplotlib\\cbook\\__init__.py:1402: FutureWarning: Support for multi-dimensional indexing (e.g. `obj[:, None]`) is deprecated and will be removed in a future version.  Convert to a numpy array before indexing instead.\n",
      "  x[:, None]\n",
      "C:\\ProgramData\\Anaconda3\\lib\\site-packages\\matplotlib\\axes\\_base.py:276: FutureWarning: Support for multi-dimensional indexing (e.g. `obj[:, None]`) is deprecated and will be removed in a future version.  Convert to a numpy array before indexing instead.\n",
      "  x = x[:, np.newaxis]\n",
      "C:\\ProgramData\\Anaconda3\\lib\\site-packages\\matplotlib\\axes\\_base.py:278: FutureWarning: Support for multi-dimensional indexing (e.g. `obj[:, None]`) is deprecated and will be removed in a future version.  Convert to a numpy array before indexing instead.\n",
      "  y = y[:, np.newaxis]\n"
     ]
    },
    {
     "data": {
      "text/plain": [
       "<matplotlib.legend.Legend at 0x18e21fd59b0>"
      ]
     },
     "execution_count": 33,
     "metadata": {},
     "output_type": "execute_result"
    },
    {
     "data": {
      "image/png": "[encoded data removed]",
      "text/plain": [
       "<Figure size 576x432 with 1 Axes>"
      ]
     },
     "metadata": {
      "needs_background": "light"
     },
     "output_type": "display_data"
    }
   ],
   "source": [
    "plt.figure(figsize=[8,6])\n",
    "plt.title(\"Sold price distribution plot for Captaincy\")\n",
    "plt.style.use('seaborn-talk')\n",
    "\n",
    "sb.distplot(df[df['CAPTAINCY EXP']==1] ['SOLD PRICE'],  # here experience is 1\n",
    "            color='y',label='captaincy experience')\n",
    "\n",
    "sb.distplot(df[df['CAPTAINCY EXP']==0] ['SOLD PRICE'],  # here experience is 0\n",
    "            color='r',label='No captaincy experience') \n",
    "plt.legend()\n"
   ]
  },
  {
   "cell_type": "markdown",
   "metadata": {},
   "source": [
    "This is a comparison plot for sold price with and without captaincy experience. It can be seen that, \n",
    "players with captaincy experience seems to be paid higher. For plotting 2 distribution together, you \n",
    "need to write the codes into one single cell and seaborn plots them in overlapping style."
   ]
  },
  {
   "cell_type": "code",
   "execution_count": 34,
   "metadata": {},
   "outputs": [
    {
     "data": {
      "text/plain": [
       "<matplotlib.axes._subplots.AxesSubplot at 0x18e21f92b00>"
      ]
     },
     "execution_count": 34,
     "metadata": {},
     "output_type": "execute_result"
    },
    {
     "data": {
      "image/png": "[encoded data removed]",
      "text/plain": [
       "<Figure size 576x432 with 1 Axes>"
      ]
     },
     "metadata": {
      "needs_background": "light"
     },
     "output_type": "display_data"
    }
   ],
   "source": [
    "plt.figure(figsize=[8,6])\n",
    "plt.style.use('fivethirtyeight')\n",
    "sb.boxplot(x=df['PLAYING ROLE'],y=df['SOLD PRICE'],palette='ocean',width=.70) #width used for boxsize"
   ]
  },
  {
   "cell_type": "markdown",
   "metadata": {},
   "source": [
    "A boxplot comparing the median, Q1,Q3,IQR, and outliers for sold price of  players, based on the \n",
    "playing role of players. As can be seen from the graph only batsman and w.keepers contain outliers,\n",
    "whereas allrounder and bowler category doesn't contain any outlier values. Look at the earlier codes for sold price ,greater than the maximum value calculated by boxplot, and you would find MS Dhoni playing for CSK is the only outlier in the W.Keeper category.\n",
    "\n",
    "Use this code and see the outliers.\n",
    "df[df[\"SOLD PRICE\"] >= 1350000]  [['PLAYER NAME']]\n",
    "\n",
    "You can also provide Hue to captaincy experience, as paratmeter for the above plot, and see the results."
   ]
  },
  {
   "cell_type": "markdown",
   "metadata": {},
   "source": [
    "As the objective of this exploratory analysis is predicting the Sold Price of player in my next project.\n",
    "I wonder, how about plotting a scatter plot for sold price and visualize it!!. If it is a linear relationship or not?.\n",
    "You must know in this project, where we predict the sold price ,it a clear statistical case of multiple regression.\n",
    "We have several independent variables here but one dependent variable(sold price). So.let's create a \n",
    "scatter plot and correlation plot  to figure out influencial variables.\n",
    "\n",
    "\n",
    "we have many independent variables here, that can be used to predict the sold price. If we take each\n",
    "variable and plot it against sold price, we will have a long line of regression equation, and we should avoid it in most cases. A batsman number of sixers hit in earlier IPL's, must be influencial\n",
    "in determining the sold price. For convenience and easier inference , I am taking SR-N, AVE, SIXERS, SOLD PRICE as the independent variable.You can include any other variable and plot it against the\n",
    "sold price , and include it in the regression equation. In the next project, I will be taking help\n",
    "from SKLEARN library, I think we must not focus much on variable selection at this point."
   ]
  },
  {
   "cell_type": "markdown",
   "metadata": {},
   "source": [
    "#### Let's slice a dataframe for batsman role, and notice the relation bw sixers and sold price"
   ]
  },
  {
   "cell_type": "code",
   "execution_count": 35,
   "metadata": {},
   "outputs": [],
   "source": [
    "df_batsman=df[df['PLAYING ROLE']=='Batsman']  # extract data frame for batsman"
   ]
  },
  {
   "cell_type": "code",
   "execution_count": 36,
   "metadata": {},
   "outputs": [
    {
     "data": {
      "text/plain": [
       "<matplotlib.collections.PathCollection at 0x18e223414a8>"
      ]
     },
     "execution_count": 36,
     "metadata": {},
     "output_type": "execute_result"
    },
    {
     "data": {
      "image/png": "[encoded data removed]",
      "text/plain": [
       "<Figure size 576x504 with 1 Axes>"
      ]
     },
     "metadata": {},
     "output_type": "display_data"
    }
   ],
   "source": [
    "plt.figure(figsize=[8,7])\n",
    "plt.xlabel('Sixers hit by a batsman')\n",
    "plt.ylabel('Sold price of a batsman')\n",
    "plt.title('Scatter plot for batsman |Sold price VS Sixers|')\n",
    "plt.style.use('seaborn-talk')\n",
    "\n",
    "plt.scatter(y=df_batsman['SOLD PRICE'],x=df_batsman['SIXERS'],\n",
    "            edgecolors='black',marker=\"P\",s=80) \n",
    "# take sold price as y,sixers as x\n"
   ]
  },
  {
   "cell_type": "code",
   "execution_count": 37,
   "metadata": {},
   "outputs": [
    {
     "data": {
      "text/plain": [
       "<matplotlib.axes._subplots.AxesSubplot at 0x18e224b74e0>"
      ]
     },
     "execution_count": 37,
     "metadata": {},
     "output_type": "execute_result"
    },
    {
     "data": {
      "image/png": "[encoded data removed]",
      "text/plain": [
       "<Figure size 576x432 with 1 Axes>"
      ]
     },
     "metadata": {},
     "output_type": "display_data"
    }
   ],
   "source": [
    "plt.figure(figsize=[8,6])\n",
    "plt.style.use('seaborn-talk')\n",
    "sb.regplot(y=df_batsman['SOLD PRICE'],x=df_batsman['SIXERS'])\n"
   ]
  },
  {
   "cell_type": "code",
   "execution_count": 38,
   "metadata": {},
   "outputs": [
    {
     "name": "stdout",
     "output_type": "stream",
     "text": [
      "            SOLD PRICE    SIXERS\n",
      "SOLD PRICE    1.000000  0.529199\n",
      "SIXERS        0.529199  1.000000\n"
     ]
    }
   ],
   "source": [
    "print(df_batsman[['SOLD PRICE','SIXERS']].corr(method='pearson'))"
   ]
  },
  {
   "cell_type": "markdown",
   "metadata": {},
   "source": [
    "You can notice, a clear positive relationhsip of 53% bw both the variables, after a straight line is fit. We do have outliers, that will be fixed with sklearn regression. This is the line of least squares, a line that  minimises the residuals or errors after a \n",
    "straight line is fit to the set of observations."
   ]
  },
  {
   "cell_type": "markdown",
   "metadata": {},
   "source": [
    "As ,I wrote earlier, I am taking only  SR-B, AVE, SIXERS, SOLD PRICE as the influencial variable or as the independent variables. Now ,to find correlation bw all the four variables together ,seaborn a method called pair plot. This pair plot, plots a graph for us, to visualize the correlation between the variables we have selected. The plot is drawn like a matrix ,and each cell repsents its correlation with the other variable.Just by looking at the graphs, we can easily decide upon the best fit curve for a variable\\'s.\n"
   ]
  },
  {
   "cell_type": "code",
   "execution_count": 39,
   "metadata": {},
   "outputs": [
    {
     "data": {
      "text/plain": [
       "<seaborn.axisgrid.PairGrid at 0x18e223f6828>"
      ]
     },
     "execution_count": 39,
     "metadata": {},
     "output_type": "execute_result"
    },
    {
     "data": {
      "image/png": "[encoded data removed]",
      "text/plain": [
       "<Figure size 720x720 with 20 Axes>"
      ]
     },
     "metadata": {},
     "output_type": "display_data"
    }
   ],
   "source": [
    "sb.pairplot(data=df[['SR-B','AVE','SIXERS','SOLD PRICE']],palette='b')"
   ]
  },
  {
   "cell_type": "markdown",
   "metadata": {},
   "source": [
    "AVE and sixers seem to be highly correlated to sold price, compared to SRB."
   ]
  },
  {
   "cell_type": "code",
   "execution_count": null,
   "metadata": {},
   "outputs": [],
   "source": []
  }
 ],
 "metadata": {
  "kernelspec": {
   "display_name": "Python 3",
   "language": "python",
   "name": "python3"
  },
  "language_info": {
   "codemirror_mode": {
    "name": "ipython",
    "version": 3
   },
   "file_extension": ".py",
   "mimetype": "text/x-python",
   "name": "python",
   "nbconvert_exporter": "python",
   "pygments_lexer": "ipython3",
   "version": "3.7.1"
  }
 },
 "nbformat": 4,
 "nbformat_minor": 2
}
